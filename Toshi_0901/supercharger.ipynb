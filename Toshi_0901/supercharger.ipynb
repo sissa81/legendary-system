{
 "cells": [
  {
   "cell_type": "code",
   "execution_count": 1,
   "source": [
    "from splinter import Browser\r\n",
    "from bs4 import BeautifulSoup\r\n",
    "import requests\r\n",
    "import pandas as pd"
   ],
   "outputs": [],
   "metadata": {}
  },
  {
   "cell_type": "code",
   "execution_count": 2,
   "source": [
    "executable_path = {'executable_path': 'templates/chromedriver.exe'}\r\n",
    "browser = Browser('chrome', **executable_path, headless=False)"
   ],
   "outputs": [],
   "metadata": {}
  },
  {
   "cell_type": "markdown",
   "source": [
    "# Tesla Make & Model & Price & Image from Carvana"
   ],
   "metadata": {}
  },
  {
   "cell_type": "code",
   "execution_count": 10,
   "source": [
    "carvana_url = 'https://www.carvana.com/cars/tesla'\r\n",
    "browser.visit(carvana_url)\r\n",
    "\r\n",
    "html = browser.html\r\n",
    "soup = BeautifulSoup(html, 'html.parser')\r\n",
    "\r\n",
    "tesla_make = soup.find('div', class_='year-make').text\r\n",
    "tesla_model = soup.find('div', class_='model').text\r\n",
    "tesla_price = soup.find('div', class_='price').text\r\n",
    "tesla_image = soup.find('img')['src']\r\n",
    "\r\n",
    "print(tesla_make)\r\n",
    "print(tesla_model)\r\n",
    "print(tesla_price)\r\n",
    "print(tesla_image)"
   ],
   "outputs": [
    {
     "output_type": "stream",
     "name": "stdout",
     "text": [
      "2021 Tesla\n",
      "Model 3\n",
      "$55,990\n",
      "//cdnblob.fastly.carvana.io/2001235254/post-large/normalized/zoomcrop/2001235254-edc-02.jpg?v=2021.8.31_15.13.1&width=347\n"
     ]
    }
   ],
   "metadata": {}
  },
  {
   "cell_type": "markdown",
   "source": [
    "# Tesla Image"
   ],
   "metadata": {}
  },
  {
   "cell_type": "code",
   "execution_count": 17,
   "source": [
    "carvana_url = 'https://www.carvana.com/cars/tesla'\r\n",
    "browser.visit(carvana_url)\r\n",
    "\r\n",
    "html = browser.html\r\n",
    "soup = BeautifulSoup(html, 'html.parser')\r\n",
    "\r\n",
    "tesla_make = soup.find_all('div', class_='year-make')\r\n",
    "tesla_model = soup.find_all('div', class_='model')\r\n",
    "tesla_price = soup.find_all('div', class_='price')\r\n",
    "tesla_image = soup.find_all('img')"
   ],
   "outputs": [],
   "metadata": {}
  },
  {
   "cell_type": "code",
   "execution_count": 16,
   "source": [
    "print(tesla_make)\r\n",
    "print(tesla_model)\r\n",
    "print(tesla_price)\r\n",
    "print(tesla_image)"
   ],
   "outputs": [
    {
     "output_type": "stream",
     "name": "stdout",
     "text": [
      "[<div class=\"year-make\">2019<!-- --> <!-- -->Tesla</div>, <div class=\"year-make\">2017<!-- --> <!-- -->Tesla</div>, <div class=\"year-make\">2020<!-- --> <!-- -->Tesla</div>, <div class=\"year-make\">2018<!-- --> <!-- -->Tesla</div>, <div class=\"year-make\">2019<!-- --> <!-- -->Tesla</div>, <div class=\"year-make\">2018<!-- --> <!-- -->Tesla</div>, <div class=\"year-make\">2018<!-- --> <!-- -->Tesla</div>, <div class=\"year-make\">2015<!-- --> <!-- -->Tesla</div>, <div class=\"year-make\">2019<!-- --> <!-- -->Tesla</div>, <div class=\"year-make\">2020<!-- --> <!-- -->Tesla</div>, <div class=\"year-make\">2019<!-- --> <!-- -->Tesla</div>, <div class=\"year-make\">2019<!-- --> <!-- -->Tesla</div>, <div class=\"year-make\">2021<!-- --> <!-- -->Tesla</div>, <div class=\"year-make\">2020<!-- --> <!-- -->Tesla</div>, <div class=\"year-make\">2018<!-- --> <!-- -->Tesla</div>, <div class=\"year-make\">2019<!-- --> <!-- -->Tesla</div>, <div class=\"year-make\">2019<!-- --> <!-- -->Tesla</div>, <div class=\"year-make\">2020<!-- --> <!-- -->Tesla</div>, <div class=\"year-make\">2020<!-- --> <!-- -->Tesla</div>]\n",
      "[<div class=\"model\">Model 3</div>, <div class=\"model\">Model 3</div>, <div class=\"model\">Model Y</div>, <div class=\"model\">Model 3</div>, <div class=\"model\">Model 3</div>, <div class=\"model\">Model 3</div>, <div class=\"model\">Model 3</div>, <div class=\"model\">Model S</div>, <div class=\"model\">Model 3</div>, <div class=\"model\">Model 3</div>, <div class=\"model\">Model 3</div>, <div class=\"model\">Model 3</div>, <div class=\"model\">Model Y</div>, <div class=\"model\">Model 3</div>, <div class=\"model\">Model 3</div>, <div class=\"model\">Model 3</div>, <div class=\"model\">Model 3</div>, <div class=\"model\">Model 3</div>, <div class=\"model\">Model Y</div>]\n",
      "[<div class=\"price\" data-qa=\"price\" data-test=\"Price\"><sup>$</sup>50,590</div>, <div class=\"price\" data-qa=\"price\" data-test=\"Price\"><sup>$</sup>43,590</div>, <div class=\"price\" data-qa=\"price\" data-test=\"Price\"><sup>$</sup>65,590</div>, <div class=\"price\" data-qa=\"price\" data-test=\"Price\"><sup>$</sup>45,590</div>, <div class=\"price\" data-qa=\"price\" data-test=\"Price\"><sup>$</sup>50,590</div>, <div class=\"price\" data-qa=\"price\" data-test=\"Price\"><sup>$</sup>43,990</div>, <div class=\"price\" data-qa=\"price\" data-test=\"Price\"><sup>$</sup>44,749</div>, <div class=\"price\" data-qa=\"price\" data-test=\"Price\"><sup>$</sup>47,590</div>, <div class=\"price\" data-qa=\"price\" data-test=\"Price\"><sup>$</sup>43,990</div>, <div class=\"price\" data-qa=\"price\" data-test=\"Price\"><sup>$</sup>43,590</div>, <div class=\"price\" data-qa=\"price\" data-test=\"Price\"><sup>$</sup>43,990</div>, <div class=\"price\" data-qa=\"price\" data-test=\"Price\"><sup>$</sup>43,990</div>, <div class=\"price\" data-qa=\"price\" data-test=\"Price\"><sup>$</sup>64,990</div>, <div class=\"price\" data-qa=\"price\" data-test=\"Price\"><sup>$</sup>51,590</div>, <div class=\"price\" data-qa=\"price\" data-test=\"Price\"><sup>$</sup>43,990</div>, <div class=\"price\" data-qa=\"price\" data-test=\"Price\"><sup>$</sup>50,500</div>, <div class=\"price\" data-qa=\"price\" data-test=\"Price\"><sup>$</sup>45,990</div>, <div class=\"price\" data-qa=\"price\" data-test=\"Price\"><sup>$</sup>56,990</div>, <div class=\"price\" data-qa=\"price\" data-test=\"Price\"><sup>$</sup>61,590</div>]\n",
      "[<img alt=\"2019 Tesla Model 3\" loading=\"lazy\" src=\"//cdnblob.fastly.carvana.io/2001146189/post-large/normalized/zoomcrop/2001146189-edc-02.jpg?v=2021.8.16_16.48.28&amp;width=347\"/>, <img alt=\"2017 Tesla Model 3\" loading=\"lazy\" src=\"//cdnblob.fastly.carvana.io/2000993101/post-large/2000993101-edc-02-search.jpg?v=2021.6.10_20.41.49\"/>, <img alt=\"2020 Tesla Model Y\" loading=\"lazy\" src=\"//cdnblob.fastly.carvana.io/2001217453/post-large/normalized/zoomcrop/2001217453-edc-02.jpg?v=2021.8.13_15.11.53&amp;width=347\"/>, <img alt=\"2018 Tesla Model 3\" loading=\"lazy\" src=\"//cdnblob.fastly.carvana.io/2001190503/post-large/2001190503-edc-02-search.jpg?v=2021.8.24_16.46.41\"/>, <img alt=\"2019 Tesla Model 3\" loading=\"lazy\" src=\"//cdnblob.fastly.carvana.io/2001135953/post-large/2001135953-edc-02-search.jpg?v=2021.7.23_22.59.39\"/>, <img alt=\"2018 Tesla Model 3\" loading=\"lazy\" src=\"//cdnblob.fastly.carvana.io/2001149332/post-large/2001149332-edc-02-search.jpg?v=2021.7.26_15.5.32\"/>, <img alt=\"2018 Tesla Model 3\" loading=\"lazy\" src=\"//cdnblob.fastly.carvana.io/2001162908/post-large/2001162908-edc-02-search.jpg?v=2021.9.3_19.59.30\"/>, <img alt=\"2015 Tesla Model S\" loading=\"lazy\" src=\"//cdnblob.fastly.carvana.io/2001166284/post-large/2001166284-edc-02-search.jpg?v=2021.8.6_22.1.15\"/>, <img alt=\"2019 Tesla Model 3\" loading=\"lazy\" src=\"//cdnblob.fastly.carvana.io/2001146237/post-large/normalized/zoomcrop/2001146237-edc-02.jpg?v=2021.8.7_16.52.50&amp;width=347\"/>, <img alt=\"2020 Tesla Model 3\" loading=\"lazy\" src=\"//cdnblob.fastly.carvana.io/2000991057/post-large/2000991057-edc-02-search.jpg?v=2021.8.28_19.47.36\"/>, <img alt=\"2019 Tesla Model 3\" loading=\"lazy\" src=\"//cdnblob.fastly.carvana.io/2001192298/post-large/normalized/zoomcrop/2001192298-edc-02.jpg?v=2021.8.24_18.58.1&amp;width=347\"/>, <img alt=\"2019 Tesla Model 3\" loading=\"lazy\" src=\"//cdnblob.fastly.carvana.io/2001197082/post-large/normalized/zoomcrop/2001197082-edc-02.jpg?v=2021.8.10_18.14.37&amp;width=347\"/>, <img alt=\"2021 Tesla Model Y\" loading=\"lazy\" src=\"//cdnblob.fastly.carvana.io/2001236147/post-large/normalized/zoomcrop/2001236147-edc-02.jpg?v=2021.8.31_17.7.48&amp;width=347\"/>, <img alt=\"2020 Tesla Model 3\" loading=\"lazy\" src=\"//cdnblob.fastly.carvana.io/2001110561/post-large/2001110561-edc-02-search.jpg?v=2021.8.7_21.19.48\"/>, <img alt=\"2018 Tesla Model 3\" loading=\"lazy\" src=\"//cdnblob.fastly.carvana.io/2001112313/post-large/2001112313-edc-02-search.jpg?v=2021.8.4_17.36.32\"/>, <img alt=\"2019 Tesla Model 3\" loading=\"lazy\" src=\"//cdnblob.fastly.carvana.io/2001204809/post-large/2001204809-edc-02-search.jpg?v=2021.9.3_19.59.30\"/>, <img alt=\"2019 Tesla Model 3\" loading=\"lazy\" src=\"//cdnblob.fastly.carvana.io/2001151312/post-large/normalized/zoomcrop/2001151312-edc-02.jpg?v=2021.8.3_17.39.28&amp;width=347\"/>, <img alt=\"2020 Tesla Model 3\" loading=\"lazy\" src=\"//cdnblob.fastly.carvana.io/2001247587/post-large/normalized/zoomcrop/2001247587-edc-02.jpg?v=2021.9.2_21.38.52&amp;width=347\"/>, <img alt=\"2020 Tesla Model Y\" loading=\"lazy\" src=\"//cdnblob.fastly.carvana.io/2001239171/post-large/normalized/zoomcrop/2001239171-edc-02.jpg?v=2021.8.31_15.16.17&amp;width=347\"/>, <img alt=\"Person looking at a vehicle on a phone\" class=\"sizing-image\" src=\"https://assets.fastly.carvana.io/serenity-ui/images/keep-moving-tile.jpg\"/>, <img alt=\"Carvana, LLC, Auto Dealers - Online, Winder, GA\" src=\"data:image/png;base64,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\"/>, <img height=\"1\" src=\"https://www.facebook.com/tr?id=2178741032440639&amp;ev=PageView&amp;noscript=1&amp;dpo=LDU&amp;dpoco=0&amp;dpost=0\" style=\"display:none\" width=\"1\"/>, <img alt=\"\" src=\"https://pt.ispot.tv/v2/TC-3374-1.gif\" style=\"border:0; display:none;\"/>, <img alt=\"\" src=\"https://pt.ispot.tv/v2/TC-3374-1.gif?app=web&amp;type=GTM_Search\" style=\"border: 0px;\"/>, <img alt=\"\" height=\"0\" id=\"batBeacon372789231723\" src=\"https://bat.bing.com/action/0?ti=4003213&amp;tm=gtm002&amp;Ver=2&amp;mid=f0203fe8-37bf-45d9-9ccf-9166ecc8699f&amp;sid=7aef76e00ced11ec8125e1c1a4ee6611&amp;vid=7aefcd500ced11ecab17e70335ba3813&amp;vids=0&amp;pi=1200101525&amp;lg=en-US&amp;sw=1280&amp;sh=720&amp;sc=24&amp;tl=Used%20Tesla%20For%20Sale%20Online%20%7C%20Carvana&amp;p=https%3A%2F%2Fwww.carvana.com%2Fcars%2Ftesla&amp;r=&amp;lt=5250&amp;evt=pageLoad&amp;msclkid=N&amp;sv=1&amp;rn=122931\" style=\"width:0px; height:0px; display:none; visibility:hidden;\" width=\"0\"/>]\n"
     ]
    }
   ],
   "metadata": {}
  },
  {
   "cell_type": "code",
   "execution_count": 18,
   "source": [
    "tesla_make_text = [ div.text for div in tesla_make ]\r\n",
    "print(tesla_make_text)\r\n",
    "\r\n",
    "tesla_model_text = [ div.text for div in tesla_model ]\r\n",
    "print(tesla_model_text)\r\n",
    "\r\n",
    "tesla_price_text = [ div.text for div in tesla_price ]\r\n",
    "print(tesla_price_text)\r\n",
    "\r\n",
    "tesla_image_source = [ img[ \"src\"] for img in tesla_image ]\r\n",
    "print(tesla_image_source)"
   ],
   "outputs": [
    {
     "output_type": "stream",
     "name": "stdout",
     "text": [
      "['2020 Tesla', '2017 Tesla', '2019 Tesla', '2018 Tesla', '2020 Tesla', '2019 Tesla', '2018 Tesla', '2018 Tesla', '2019 Tesla', '2015 Tesla', '2019 Tesla', '2019 Tesla', '2021 Tesla', '2020 Tesla', '2018 Tesla', '2019 Tesla', '2019 Tesla', '2020 Tesla', '2020 Tesla']\n",
      "['Model 3', 'Model 3', 'Model 3', 'Model 3', 'Model Y', 'Model 3', 'Model 3', 'Model 3', 'Model 3', 'Model S', 'Model 3', 'Model 3', 'Model Y', 'Model 3', 'Model 3', 'Model 3', 'Model 3', 'Model Y', 'Model 3']\n",
      "['$56,990', '$43,590', '$50,590', '$45,590', '$65,590', '$50,590', '$44,749', '$43,990', '$43,990', '$47,590', '$43,990', '$43,990', '$64,990', '$51,590', '$43,990', '$50,500', '$45,990', '$61,590', '$43,990']\n",
      "['//cdnblob.fastly.carvana.io/2001247587/post-large/normalized/zoomcrop/2001247587-edc-02.jpg?v=2021.9.2_21.38.52&width=347', '//cdnblob.fastly.carvana.io/2000993101/post-large/2000993101-edc-02-search.jpg?v=2021.6.10_20.41.49', '//cdnblob.fastly.carvana.io/2001146189/post-large/normalized/zoomcrop/2001146189-edc-02.jpg?v=2021.8.16_16.48.28&width=347', '//cdnblob.fastly.carvana.io/2001190503/post-large/2001190503-edc-02-search.jpg?v=2021.8.24_16.46.41', '//cdnblob.fastly.carvana.io/2001217453/post-large/normalized/zoomcrop/2001217453-edc-02.jpg?v=2021.8.13_15.11.53&width=347', '//cdnblob.fastly.carvana.io/2001135953/post-large/2001135953-edc-02-search.jpg?v=2021.7.23_22.59.39', '//cdnblob.fastly.carvana.io/2001162908/post-large/2001162908-edc-02-search.jpg?v=2021.9.3_20.5.58', '//cdnblob.fastly.carvana.io/2001149332/post-large/2001149332-edc-02-search.jpg?v=2021.7.26_15.5.32', '//cdnblob.fastly.carvana.io/2001146237/post-large/normalized/zoomcrop/2001146237-edc-02.jpg?v=2021.8.7_16.52.50&width=347', '//cdnblob.fastly.carvana.io/2001166284/post-large/2001166284-edc-02-search.jpg?v=2021.8.6_22.1.15', '//cdnblob.fastly.carvana.io/2001192298/post-large/normalized/zoomcrop/2001192298-edc-02.jpg?v=2021.8.24_18.58.1&width=347', '//cdnblob.fastly.carvana.io/2001197082/post-large/normalized/zoomcrop/2001197082-edc-02.jpg?v=2021.8.10_18.14.37&width=347', '//cdnblob.fastly.carvana.io/2001236147/post-large/normalized/zoomcrop/2001236147-edc-02.jpg?v=2021.8.31_17.7.48&width=347', '//cdnblob.fastly.carvana.io/2001110561/post-large/2001110561-edc-02-search.jpg?v=2021.8.7_21.19.48', '//cdnblob.fastly.carvana.io/2001112313/post-large/2001112313-edc-02-search.jpg?v=2021.8.4_17.36.32', '//cdnblob.fastly.carvana.io/2001204809/post-large/2001204809-edc-02-search.jpg?v=2021.9.3_20.5.58', '//cdnblob.fastly.carvana.io/2001151312/post-large/normalized/zoomcrop/2001151312-edc-02.jpg?v=2021.8.3_17.39.28&width=347', '//cdnblob.fastly.carvana.io/2001239171/post-large/normalized/zoomcrop/2001239171-edc-02.jpg?v=2021.8.31_15.16.17&width=347', '//cdnblob.fastly.carvana.io/2001116919/post-large/normalized/zoomcrop/2001116919-edc-02.jpg?v=2021.9.3_18.7.24&width=347', 'https://assets.fastly.carvana.io/serenity-ui/images/keep-moving-tile.jpg', 'data:image/png;base64,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', 'https://www.facebook.com/tr?id=2178741032440639&ev=PageView&noscript=1&dpo=LDU&dpoco=0&dpost=0', 'https://pt.ispot.tv/v2/TC-3374-1.gif', 'https://pt.ispot.tv/v2/TC-3374-1.gif?app=web&type=GTM_Search', 'https://bat.bing.com/action/0?ti=4003213&tm=gtm002&Ver=2&mid=028babdc-1234-474c-8a23-c4bde9debaa9&sid=7aef76e00ced11ec8125e1c1a4ee6611&vid=7aefcd500ced11ecab17e70335ba3813&vids=0&pi=1200101525&lg=en-US&sw=1280&sh=720&sc=24&tl=Used%20Tesla%20For%20Sale%20Online%20%7C%20Carvana&p=https%3A%2F%2Fwww.carvana.com%2Fcars%2Ftesla&r=&lt=4881&evt=pageLoad&msclkid=N&sv=1&rn=889121']\n"
     ]
    }
   ],
   "metadata": {}
  },
  {
   "cell_type": "markdown",
   "source": [
    "# For loop and find all Teslas"
   ],
   "metadata": {}
  },
  {
   "cell_type": "code",
   "execution_count": 15,
   "source": [
    "carvana_url = 'https://www.carvana.com/cars/tesla'\r\n",
    "browser.visit(carvana_url)\r\n",
    "\r\n",
    "html = browser.html\r\n",
    "soup = BeautifulSoup(html, 'html.parser')\r\n",
    "\r\n",
    "tesla_make = soup.find_all('div', class_='year-make')\r\n",
    "tesla_model = soup.find_all('div', class_='model')\r\n",
    "tesla_price = soup.find_all('div', class_='price')\r\n",
    "tesla_image = soup.find_all('img')\r\n",
    "\r\n",
    "# browser.click_link_by_text('Next')\r\n",
    "\r\n",
    "teslas = []\r\n",
    "\r\n",
    "for i in range (0, len(tesla_make)):\r\n",
    "    tesla = {}\r\n",
    "    tesla['make']= tesla_make[i].text\r\n",
    "    tesla['model']= tesla_model[i].text\r\n",
    "    tesla['price']= tesla_price[i].text\r\n",
    "    tesla['image']= tesla_image[i]['src']\r\n",
    "    teslas.append(teslas)\r\n",
    "    print(tesla)"
   ],
   "outputs": [
    {
     "output_type": "stream",
     "name": "stdout",
     "text": [
      "{'make': '2019 Tesla', 'model': 'Model 3', 'price': '$50,590', 'image': '//cdnblob.fastly.carvana.io/2001146189/post-large/normalized/zoomcrop/2001146189-edc-02.jpg?v=2021.8.16_16.48.28&width=347'}\n",
      "{'make': '2017 Tesla', 'model': 'Model 3', 'price': '$43,590', 'image': '//cdnblob.fastly.carvana.io/2000993101/post-large/2000993101-edc-02-search.jpg?v=2021.6.10_20.41.49'}\n",
      "{'make': '2020 Tesla', 'model': 'Model Y', 'price': '$65,590', 'image': '//cdnblob.fastly.carvana.io/2001217453/post-large/normalized/zoomcrop/2001217453-edc-02.jpg?v=2021.8.13_15.11.53&width=347'}\n",
      "{'make': '2018 Tesla', 'model': 'Model 3', 'price': '$45,590', 'image': '//cdnblob.fastly.carvana.io/2001190503/post-large/2001190503-edc-02-search.jpg?v=2021.8.24_16.46.41'}\n",
      "{'make': '2019 Tesla', 'model': 'Model 3', 'price': '$50,590', 'image': '//cdnblob.fastly.carvana.io/2001135953/post-large/2001135953-edc-02-search.jpg?v=2021.7.23_22.59.39'}\n",
      "{'make': '2018 Tesla', 'model': 'Model 3', 'price': '$43,990', 'image': '//cdnblob.fastly.carvana.io/2001149332/post-large/2001149332-edc-02-search.jpg?v=2021.7.26_15.5.32'}\n",
      "{'make': '2018 Tesla', 'model': 'Model 3', 'price': '$44,749', 'image': '//cdnblob.fastly.carvana.io/2001162908/post-large/2001162908-edc-02-search.jpg?v=2021.9.3_19.59.30'}\n",
      "{'make': '2015 Tesla', 'model': 'Model S', 'price': '$47,590', 'image': '//cdnblob.fastly.carvana.io/2001166284/post-large/2001166284-edc-02-search.jpg?v=2021.8.6_22.1.15'}\n",
      "{'make': '2019 Tesla', 'model': 'Model 3', 'price': '$43,990', 'image': '//cdnblob.fastly.carvana.io/2001146237/post-large/normalized/zoomcrop/2001146237-edc-02.jpg?v=2021.8.7_16.52.50&width=347'}\n",
      "{'make': '2020 Tesla', 'model': 'Model 3', 'price': '$43,590', 'image': '//cdnblob.fastly.carvana.io/2000991057/post-large/2000991057-edc-02-search.jpg?v=2021.8.28_19.47.36'}\n",
      "{'make': '2019 Tesla', 'model': 'Model 3', 'price': '$43,990', 'image': '//cdnblob.fastly.carvana.io/2001192298/post-large/normalized/zoomcrop/2001192298-edc-02.jpg?v=2021.8.24_18.58.1&width=347'}\n",
      "{'make': '2019 Tesla', 'model': 'Model 3', 'price': '$43,990', 'image': '//cdnblob.fastly.carvana.io/2001197082/post-large/normalized/zoomcrop/2001197082-edc-02.jpg?v=2021.8.10_18.14.37&width=347'}\n",
      "{'make': '2021 Tesla', 'model': 'Model Y', 'price': '$64,990', 'image': '//cdnblob.fastly.carvana.io/2001236147/post-large/normalized/zoomcrop/2001236147-edc-02.jpg?v=2021.8.31_17.7.48&width=347'}\n",
      "{'make': '2020 Tesla', 'model': 'Model 3', 'price': '$51,590', 'image': '//cdnblob.fastly.carvana.io/2001110561/post-large/2001110561-edc-02-search.jpg?v=2021.8.7_21.19.48'}\n",
      "{'make': '2018 Tesla', 'model': 'Model 3', 'price': '$43,990', 'image': '//cdnblob.fastly.carvana.io/2001112313/post-large/2001112313-edc-02-search.jpg?v=2021.8.4_17.36.32'}\n",
      "{'make': '2019 Tesla', 'model': 'Model 3', 'price': '$50,500', 'image': '//cdnblob.fastly.carvana.io/2001204809/post-large/2001204809-edc-02-search.jpg?v=2021.9.3_19.59.30'}\n",
      "{'make': '2019 Tesla', 'model': 'Model 3', 'price': '$45,990', 'image': '//cdnblob.fastly.carvana.io/2001151312/post-large/normalized/zoomcrop/2001151312-edc-02.jpg?v=2021.8.3_17.39.28&width=347'}\n",
      "{'make': '2020 Tesla', 'model': 'Model 3', 'price': '$56,990', 'image': '//cdnblob.fastly.carvana.io/2001247587/post-large/normalized/zoomcrop/2001247587-edc-02.jpg?v=2021.9.2_21.38.52&width=347'}\n",
      "{'make': '2020 Tesla', 'model': 'Model Y', 'price': '$61,590', 'image': '//cdnblob.fastly.carvana.io/2001239171/post-large/normalized/zoomcrop/2001239171-edc-02.jpg?v=2021.8.31_15.16.17&width=347'}\n"
     ]
    }
   ],
   "metadata": {}
  },
  {
   "cell_type": "code",
   "execution_count": 9,
   "source": [
    "browser.quit()"
   ],
   "outputs": [],
   "metadata": {}
  }
 ],
 "metadata": {
  "orig_nbformat": 4,
  "language_info": {
   "name": "python",
   "version": "3.6.10",
   "mimetype": "text/x-python",
   "codemirror_mode": {
    "name": "ipython",
    "version": 3
   },
   "pygments_lexer": "ipython3",
   "nbconvert_exporter": "python",
   "file_extension": ".py"
  },
  "kernelspec": {
   "name": "python3",
   "display_name": "Python 3.6.10 64-bit ('PythonData': conda)"
  },
  "interpreter": {
   "hash": "352eb0fdbc39df23c3941759226aac7a80e9e8fcb0968112f6f9929c3d7daf2e"
  }
 },
 "nbformat": 4,
 "nbformat_minor": 2
}