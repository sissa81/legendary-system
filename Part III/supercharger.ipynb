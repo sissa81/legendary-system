{
 "cells": [
  {
   "cell_type": "code",
   "execution_count": 35,
   "source": [
    "from splinter import Browser\r\n",
    "from bs4 import BeautifulSoup\r\n",
    "import requests\r\n",
    "import pandas as pd\r\n",
    "import matplotlib.pyplot as plt\r\n",
    "import numpy as np"
   ],
   "outputs": [],
   "metadata": {}
  },
  {
   "cell_type": "code",
   "execution_count": 3,
   "source": [
    "executable_path = {'executable_path': 'templates/chromedriver.exe'}\r\n",
    "browser = Browser('chrome', **executable_path, headless=False)"
   ],
   "outputs": [],
   "metadata": {}
  },
  {
   "cell_type": "markdown",
   "source": [
    "# Tesla Make & Model & Price & Image from Carvana"
   ],
   "metadata": {}
  },
  {
   "cell_type": "code",
   "execution_count": 4,
   "source": [
    "carvana_url = 'https://www.carvana.com/cars/tesla'\r\n",
    "browser.visit(carvana_url)\r\n",
    "\r\n",
    "html = browser.html\r\n",
    "soup = BeautifulSoup(html, 'html.parser')\r\n",
    "\r\n",
    "tesla_make = soup.find('div', class_='year-make').text\r\n",
    "tesla_model = soup.find('div', class_='model').text\r\n",
    "tesla_price = soup.find('div', class_='price').text\r\n",
    "tesla_image = soup.find('img')['src']\r\n",
    "\r\n",
    "print(tesla_make)\r\n",
    "print(tesla_model)\r\n",
    "print(tesla_price)\r\n",
    "print(tesla_image)"
   ],
   "outputs": [
    {
     "output_type": "stream",
     "name": "stdout",
     "text": [
      "2019 Tesla\n",
      "Model 3\n",
      "$53,990\n",
      "//cdnblob.fastly.carvana.io/2001248699/post-large/normalized/zoomcrop/2001248699-edc-02.jpg?v=2021.8.31_23.30.49&width=347\n"
     ]
    }
   ],
   "metadata": {}
  },
  {
   "cell_type": "markdown",
   "source": [
    "# Tesla Image"
   ],
   "metadata": {}
  },
  {
   "cell_type": "code",
   "execution_count": 5,
   "source": [
    "carvana_url = 'https://www.carvana.com/cars/tesla'\r\n",
    "browser.visit(carvana_url)\r\n",
    "\r\n",
    "html = browser.html\r\n",
    "soup = BeautifulSoup(html, 'html.parser')\r\n",
    "\r\n",
    "tesla_make = soup.find_all('div', class_='year-make')\r\n",
    "tesla_model = soup.find_all('div', class_='model')\r\n",
    "tesla_price = soup.find_all('div', class_='price')\r\n",
    "tesla_image = soup.find_all('img')"
   ],
   "outputs": [],
   "metadata": {}
  },
  {
   "cell_type": "code",
   "execution_count": 6,
   "source": [
    "print(tesla_make)\r\n",
    "print(tesla_model)\r\n",
    "print(tesla_price)\r\n",
    "print(tesla_image)"
   ],
   "outputs": [
    {
     "output_type": "stream",
     "name": "stdout",
     "text": [
      "[<div class=\"year-make\">2019<!-- --> <!-- -->Tesla</div>, <div class=\"year-make\">2019<!-- --> <!-- -->Tesla</div>, <div class=\"year-make\">2018<!-- --> <!-- -->Tesla</div>, <div class=\"year-make\">2019<!-- --> <!-- -->Tesla</div>, <div class=\"year-make\">2018<!-- --> <!-- -->Tesla</div>, <div class=\"year-make\">2019<!-- --> <!-- -->Tesla</div>, <div class=\"year-make\">2021<!-- --> <!-- -->Tesla</div>, <div class=\"year-make\">2019<!-- --> <!-- -->Tesla</div>, <div class=\"year-make\">2019<!-- --> <!-- -->Tesla</div>, <div class=\"year-make\">2019<!-- --> <!-- -->Tesla</div>, <div class=\"year-make\">2019<!-- --> <!-- -->Tesla</div>, <div class=\"year-make\">2019<!-- --> <!-- -->Tesla</div>, <div class=\"year-make\">2018<!-- --> <!-- -->Tesla</div>, <div class=\"year-make\">2017<!-- --> <!-- -->Tesla</div>, <div class=\"year-make\">2019<!-- --> <!-- -->Tesla</div>, <div class=\"year-make\">2018<!-- --> <!-- -->Tesla</div>, <div class=\"year-make\">2020<!-- --> <!-- -->Tesla</div>, <div class=\"year-make\">2019<!-- --> <!-- -->Tesla</div>, <div class=\"year-make\">2019<!-- --> <!-- -->Tesla</div>]\n",
      "[<div class=\"model\">Model 3</div>, <div class=\"model\">Model 3</div>, <div class=\"model\">Model 3</div>, <div class=\"model\">Model 3</div>, <div class=\"model\">Model 3</div>, <div class=\"model\">Model 3</div>, <div class=\"model\">Model 3</div>, <div class=\"model\">Model 3</div>, <div class=\"model\">Model 3</div>, <div class=\"model\">Model 3</div>, <div class=\"model\">Model 3</div>, <div class=\"model\">Model 3</div>, <div class=\"model\">Model 3</div>, <div class=\"model\">Model S</div>, <div class=\"model\">Model 3</div>, <div class=\"model\">Model 3</div>, <div class=\"model\">Model Y</div>, <div class=\"model\">Model 3</div>, <div class=\"model\">Model 3</div>]\n",
      "[<div class=\"price\" data-qa=\"price\" data-test=\"Price\"><sup>$</sup>53,990</div>, <div class=\"price\" data-qa=\"price\" data-test=\"Price\"><sup>$</sup>42,990</div>, <div class=\"price\" data-qa=\"price\" data-test=\"Price\"><sup>$</sup>43,990</div>, <div class=\"price\" data-qa=\"price\" data-test=\"Price\"><sup>$</sup>42,990</div>, <div class=\"price\" data-qa=\"price\" data-test=\"Price\"><sup>$</sup>44,990</div>, <div class=\"price\" data-qa=\"price\" data-test=\"Price\"><sup>$</sup>45,990</div>, <div class=\"price\" data-qa=\"price\" data-test=\"Price\"><sup>$</sup>47,990</div>, <div class=\"price\" data-qa=\"price\" data-test=\"Price\"><sup>$</sup>43,990</div>, <div class=\"price\" data-qa=\"price\" data-test=\"Price\"><sup>$</sup>43,990</div>, <div class=\"price\" data-qa=\"price\" data-test=\"Price\"><sup>$</sup>44,990</div>, <div class=\"price\" data-qa=\"price\" data-test=\"Price\"><sup>$</sup>40,990</div>, <div class=\"price\" data-qa=\"price\" data-test=\"Price\"><sup>$</sup>43,990</div>, <div class=\"price\" data-qa=\"price\" data-test=\"Price\"><sup>$</sup>43,590</div>, <div class=\"price\" data-qa=\"price\" data-test=\"Price\"><sup>$</sup>54,990</div>, <div class=\"price\" data-qa=\"price\" data-test=\"Price\"><sup>$</sup>41,990</div>, <div class=\"price\" data-qa=\"price\" data-test=\"Price\"><sup>$</sup>43,590</div>, <div class=\"price\" data-qa=\"price\" data-test=\"Price\"><sup>$</sup>64,590</div>, <div class=\"price\" data-qa=\"price\" data-test=\"Price\"><sup>$</sup>52,990</div>, <div class=\"price\" data-qa=\"price\" data-test=\"Price\"><sup>$</sup>50,000</div>]\n",
      "[<img alt=\"2019 Tesla Model 3\" loading=\"lazy\" src=\"//cdnblob.fastly.carvana.io/2001248699/post-large/normalized/zoomcrop/2001248699-edc-02.jpg?v=2021.8.31_23.30.49&amp;width=347\"/>, <img alt=\"2019 Tesla Model 3\" loading=\"lazy\" src=\"//cdnblob.fastly.carvana.io/2001183920/post-large/normalized/zoomcrop/2001183920-edc-02.jpg?v=2021.9.2_15.11.50&amp;width=347\"/>, <img alt=\"2018 Tesla Model 3\" loading=\"lazy\" src=\"//cdnblob.fastly.carvana.io/2001243730/post-large/normalized/zoomcrop/2001243730-edc-02.jpg?v=2021.9.10_21.27.33&amp;width=347\"/>, <img alt=\"2019 Tesla Model 3\" loading=\"lazy\" src=\"//cdnblob.fastly.carvana.io/2001113126/post-large/normalized/zoomcrop/2001113126-edc-02.jpg?v=2021.9.11_19.12.22&amp;width=347\"/>, <img alt=\"2018 Tesla Model 3\" loading=\"lazy\" src=\"//cdnblob.fastly.carvana.io/2001190503/post-large/2001190503-edc-02-search.jpg?v=2021.8.24_16.46.41\"/>, <img alt=\"2019 Tesla Model 3\" loading=\"lazy\" src=\"//cdnblob.fastly.carvana.io/2001151312/post-large/normalized/zoomcrop/2001151312-edc-02.jpg?v=2021.8.3_17.39.28&amp;width=347\"/>, <img alt=\"2021 Tesla Model 3\" loading=\"lazy\" src=\"//cdnblob.fastly.carvana.io/2001236178/post-large/normalized/zoomcrop/2001236178-edc-02.jpg?v=2021.8.20_15.4.48&amp;width=347\"/>, <img alt=\"2019 Tesla Model 3\" loading=\"lazy\" src=\"//cdnblob.fastly.carvana.io/2001267733/post-large/normalized/zoomcrop/2001267733-edc-02.jpg?v=2021.9.3_17.23.2&amp;width=347\"/>, <img alt=\"2019 Tesla Model 3\" loading=\"lazy\" src=\"//cdnblob.fastly.carvana.io/2001224667/post-large/normalized/zoomcrop/2001224667-edc-02.jpg?v=2021.8.16_18.34.34&amp;width=347\"/>, <img alt=\"2019 Tesla Model 3\" loading=\"lazy\" src=\"//cdnblob.fastly.carvana.io/2001199150/post-large/normalized/zoomcrop/2001199150-edc-02.jpg?v=2021.9.9_16.5.19&amp;width=347\"/>, <img alt=\"2019 Tesla Model 3\" loading=\"lazy\" src=\"//cdnblob.fastly.carvana.io/2001155333/post-large/normalized/zoomcrop/2001155333-edc-02.jpg?v=2021.7.30_16.32.55&amp;width=347\"/>, <img alt=\"2019 Tesla Model 3\" loading=\"lazy\" src=\"//cdnblob.fastly.carvana.io/2001200425/post-large/2001200425-edc-02-search.jpg?v=2021.8.27_14.5.44\"/>, <img alt=\"2018 Tesla Model 3\" loading=\"lazy\" src=\"//cdnblob.fastly.carvana.io/2001149332/post-large/2001149332-edc-02-search.jpg?v=2021.7.26_15.5.32\"/>, <img alt=\"2017 Tesla Model S\" loading=\"lazy\" src=\"//cdnblob.fastly.carvana.io/2001077500/post-large/2001077500-edc-02-search.jpg?v=2021.8.10_17.7.16\"/>, <img alt=\"2019 Tesla Model 3\" loading=\"lazy\" src=\"//cdnblob.fastly.carvana.io/2001078201/post-large/2001078201-edc-02-search.jpg?v=2021.6.18_13.55.47\"/>, <img alt=\"2018 Tesla Model 3\" loading=\"lazy\" src=\"//cdnblob.fastly.carvana.io/2001112313/post-large/2001112313-edc-02-search.jpg?v=2021.8.4_17.36.32\"/>, <img alt=\"2020 Tesla Model Y\" loading=\"lazy\" src=\"//cdnblob.fastly.carvana.io/2001238105/post-large/normalized/zoomcrop/2001238105-edc-02.jpg?v=2021.8.30_21.50.37&amp;width=347\"/>, <img alt=\"2019 Tesla Model 3\" loading=\"lazy\" src=\"//carvanaevoxprodblob.blob.core.windows.net/evox/color_0640_032_png/MY2019/13547/13547_cc0640_032_PBSB.png\"/>, <img alt=\"Copyright Evox Images\" src=\"//assets.fastly.carvana.io/search-assets/evox_logo.png\"/>, <img alt=\"2019 Tesla Model 3\" loading=\"lazy\" src=\"//cdnblob.fastly.carvana.io/2001204809/post-large/2001204809-edc-02-search.jpg?v=2021.9.12_22.20.26\"/>, <img alt=\"Person looking at a vehicle on a phone\" class=\"sizing-image\" src=\"https://assets.fastly.carvana.io/serenity-ui/images/keep-moving-tile.jpg\"/>, <img alt=\"Carvana, LLC, Auto Dealers - Online, Winder, GA\" src=\"data:image/png;base64,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\"/>, <img height=\"1\" src=\"https://www.facebook.com/tr?id=2178741032440639&amp;ev=PageView&amp;noscript=1&amp;dpo=LDU&amp;dpoco=0&amp;dpost=0\" style=\"display:none\" width=\"1\"/>, <img alt=\"\" src=\"https://pt.ispot.tv/v2/TC-3374-1.gif\" style=\"border:0; display:none;\"/>, <img alt=\"\" src=\"https://pt.ispot.tv/v2/TC-3374-1.gif?app=web&amp;type=GTM_Search\" style=\"border: 0px;\"/>, <img alt=\"\" height=\"0\" id=\"batBeacon845025256132\" src=\"https://bat.bing.com/action/0?ti=4003213&amp;tm=gtm002&amp;Ver=2&amp;mid=670ff018-481a-4b0b-a571-a82f85d15fc5&amp;sid=a00c80c0141711eca4e58f791c558ba4&amp;vid=a00cc340141711ec8edaed981d891274&amp;vids=0&amp;pi=1200101525&amp;lg=en-US&amp;sw=1280&amp;sh=720&amp;sc=24&amp;tl=Used%20Tesla%20For%20Sale%20Online%20%7C%20Carvana&amp;p=https%3A%2F%2Fwww.carvana.com%2Fcars%2Ftesla&amp;r=&amp;lt=3374&amp;evt=pageLoad&amp;msclkid=N&amp;sv=1&amp;rn=558841\" style=\"width:0px; height:0px; display:none; visibility:hidden;\" width=\"0\"/>]\n"
     ]
    }
   ],
   "metadata": {}
  },
  {
   "cell_type": "code",
   "execution_count": 7,
   "source": [
    "tesla_make_text = [ div.text for div in tesla_make ]\r\n",
    "print(tesla_make_text)\r\n",
    "\r\n",
    "tesla_model_text = [ div.text for div in tesla_model ]\r\n",
    "print(tesla_model_text)\r\n",
    "\r\n",
    "tesla_price_text = [ div.text for div in tesla_price ]\r\n",
    "print(tesla_price_text)\r\n",
    "\r\n",
    "tesla_image_source = [ img[ \"src\"] for img in tesla_image ]\r\n",
    "print(tesla_image_source)"
   ],
   "outputs": [
    {
     "output_type": "stream",
     "name": "stdout",
     "text": [
      "['2019 Tesla', '2019 Tesla', '2018 Tesla', '2019 Tesla', '2018 Tesla', '2019 Tesla', '2021 Tesla', '2019 Tesla', '2019 Tesla', '2019 Tesla', '2019 Tesla', '2019 Tesla', '2018 Tesla', '2017 Tesla', '2019 Tesla', '2018 Tesla', '2020 Tesla', '2019 Tesla', '2019 Tesla']\n",
      "['Model 3', 'Model 3', 'Model 3', 'Model 3', 'Model 3', 'Model 3', 'Model 3', 'Model 3', 'Model 3', 'Model 3', 'Model 3', 'Model 3', 'Model 3', 'Model S', 'Model 3', 'Model 3', 'Model Y', 'Model 3', 'Model 3']\n",
      "['$53,990', '$42,990', '$43,990', '$42,990', '$44,990', '$45,990', '$47,990', '$43,990', '$43,990', '$44,990', '$40,990', '$43,990', '$43,590', '$54,990', '$41,990', '$43,590', '$64,590', '$52,990', '$50,000']\n",
      "['//cdnblob.fastly.carvana.io/2001248699/post-large/normalized/zoomcrop/2001248699-edc-02.jpg?v=2021.8.31_23.30.49&width=347', '//cdnblob.fastly.carvana.io/2001183920/post-large/normalized/zoomcrop/2001183920-edc-02.jpg?v=2021.9.2_15.11.50&width=347', '//cdnblob.fastly.carvana.io/2001243730/post-large/normalized/zoomcrop/2001243730-edc-02.jpg?v=2021.9.10_21.27.33&width=347', '//cdnblob.fastly.carvana.io/2001113126/post-large/normalized/zoomcrop/2001113126-edc-02.jpg?v=2021.9.11_19.12.22&width=347', '//cdnblob.fastly.carvana.io/2001190503/post-large/2001190503-edc-02-search.jpg?v=2021.8.24_16.46.41', '//cdnblob.fastly.carvana.io/2001151312/post-large/normalized/zoomcrop/2001151312-edc-02.jpg?v=2021.8.3_17.39.28&width=347', '//cdnblob.fastly.carvana.io/2001236178/post-large/normalized/zoomcrop/2001236178-edc-02.jpg?v=2021.8.20_15.4.48&width=347', '//cdnblob.fastly.carvana.io/2001267733/post-large/normalized/zoomcrop/2001267733-edc-02.jpg?v=2021.9.3_17.23.2&width=347', '//cdnblob.fastly.carvana.io/2001224667/post-large/normalized/zoomcrop/2001224667-edc-02.jpg?v=2021.8.16_18.34.34&width=347', '//cdnblob.fastly.carvana.io/2001199150/post-large/normalized/zoomcrop/2001199150-edc-02.jpg?v=2021.9.9_16.5.19&width=347', '//cdnblob.fastly.carvana.io/2001155333/post-large/normalized/zoomcrop/2001155333-edc-02.jpg?v=2021.7.30_16.32.55&width=347', '//cdnblob.fastly.carvana.io/2001200425/post-large/2001200425-edc-02-search.jpg?v=2021.8.27_14.5.44', '//cdnblob.fastly.carvana.io/2001149332/post-large/2001149332-edc-02-search.jpg?v=2021.7.26_15.5.32', '//cdnblob.fastly.carvana.io/2001077500/post-large/2001077500-edc-02-search.jpg?v=2021.8.10_17.7.16', '//cdnblob.fastly.carvana.io/2001078201/post-large/2001078201-edc-02-search.jpg?v=2021.6.18_13.55.47', '//cdnblob.fastly.carvana.io/2001112313/post-large/2001112313-edc-02-search.jpg?v=2021.8.4_17.36.32', '//cdnblob.fastly.carvana.io/2001238105/post-large/normalized/zoomcrop/2001238105-edc-02.jpg?v=2021.8.30_21.50.37&width=347', '//carvanaevoxprodblob.blob.core.windows.net/evox/color_0640_032_png/MY2019/13547/13547_cc0640_032_PBSB.png', '//assets.fastly.carvana.io/search-assets/evox_logo.png', '//cdnblob.fastly.carvana.io/2001204809/post-large/2001204809-edc-02-search.jpg?v=2021.9.12_22.20.26', 'https://assets.fastly.carvana.io/serenity-ui/images/keep-moving-tile.jpg', 'data:image/png;base64,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', 'https://www.facebook.com/tr?id=2178741032440639&ev=PageView&noscript=1&dpo=LDU&dpoco=0&dpost=0', 'https://pt.ispot.tv/v2/TC-3374-1.gif', 'https://pt.ispot.tv/v2/TC-3374-1.gif?app=web&type=GTM_Search', 'https://bat.bing.com/action/0?ti=4003213&tm=gtm002&Ver=2&mid=670ff018-481a-4b0b-a571-a82f85d15fc5&sid=a00c80c0141711eca4e58f791c558ba4&vid=a00cc340141711ec8edaed981d891274&vids=0&pi=1200101525&lg=en-US&sw=1280&sh=720&sc=24&tl=Used%20Tesla%20For%20Sale%20Online%20%7C%20Carvana&p=https%3A%2F%2Fwww.carvana.com%2Fcars%2Ftesla&r=&lt=3374&evt=pageLoad&msclkid=N&sv=1&rn=558841']\n"
     ]
    }
   ],
   "metadata": {}
  },
  {
   "cell_type": "markdown",
   "source": [
    "# For loop and find all Teslas"
   ],
   "metadata": {}
  },
  {
   "cell_type": "code",
   "execution_count": 8,
   "source": [
    "carvana_url = 'https://www.carvana.com/cars/tesla'\r\n",
    "browser.visit(carvana_url)\r\n",
    "\r\n",
    "html = browser.html\r\n",
    "soup = BeautifulSoup(html, 'html.parser')\r\n",
    "\r\n",
    "tesla_make = soup.find_all('div', class_='year-make')\r\n",
    "tesla_model = soup.find_all('div', class_='model')\r\n",
    "tesla_price = soup.find_all('div', class_='price')\r\n",
    "tesla_image = soup.find_all('img')\r\n",
    "\r\n",
    "# browser.click_link_by_text('Next')\r\n",
    "\r\n",
    "teslas = []\r\n",
    "\r\n",
    "for i in range (0, len(tesla_make)):\r\n",
    "    tesla = {}\r\n",
    "    tesla['make']= tesla_make[i].text\r\n",
    "    tesla['model']= tesla_model[i].text\r\n",
    "    tesla['price']= tesla_price[i].text\r\n",
    "    tesla['image']= tesla_image[i]['src']\r\n",
    "    teslas.append(teslas)\r\n",
    "    print(tesla)"
   ],
   "outputs": [
    {
     "output_type": "stream",
     "name": "stdout",
     "text": [
      "{'make': '2019 Tesla', 'model': 'Model 3', 'price': '$53,990', 'image': '//cdnblob.fastly.carvana.io/2001248699/post-large/normalized/zoomcrop/2001248699-edc-02.jpg?v=2021.8.31_23.30.49&width=347'}\n",
      "{'make': '2019 Tesla', 'model': 'Model 3', 'price': '$42,990', 'image': '//cdnblob.fastly.carvana.io/2001183920/post-large/normalized/zoomcrop/2001183920-edc-02.jpg?v=2021.9.2_15.11.50&width=347'}\n",
      "{'make': '2018 Tesla', 'model': 'Model 3', 'price': '$44,990', 'image': '//cdnblob.fastly.carvana.io/2001190503/post-large/2001190503-edc-02-search.jpg?v=2021.8.24_16.46.41'}\n",
      "{'make': '2018 Tesla', 'model': 'Model 3', 'price': '$43,990', 'image': '//cdnblob.fastly.carvana.io/2001243730/post-large/normalized/zoomcrop/2001243730-edc-02.jpg?v=2021.9.10_21.27.33&width=347'}\n",
      "{'make': '2019 Tesla', 'model': 'Model 3', 'price': '$50,000', 'image': '//cdnblob.fastly.carvana.io/2001204809/post-large/2001204809-edc-02-search.jpg?v=2021.9.12_22.20.31'}\n",
      "{'make': '2019 Tesla', 'model': 'Model 3', 'price': '$42,990', 'image': '//cdnblob.fastly.carvana.io/2001113126/post-large/normalized/zoomcrop/2001113126-edc-02.jpg?v=2021.9.11_19.12.22&width=347'}\n",
      "{'make': '2019 Tesla', 'model': 'Model 3', 'price': '$45,990', 'image': '//cdnblob.fastly.carvana.io/2001151312/post-large/normalized/zoomcrop/2001151312-edc-02.jpg?v=2021.8.3_17.39.28&width=347'}\n",
      "{'make': '2021 Tesla', 'model': 'Model 3', 'price': '$47,990', 'image': '//cdnblob.fastly.carvana.io/2001236178/post-large/normalized/zoomcrop/2001236178-edc-02.jpg?v=2021.8.20_15.4.48&width=347'}\n",
      "{'make': '2019 Tesla', 'model': 'Model 3', 'price': '$43,990', 'image': '//cdnblob.fastly.carvana.io/2001267733/post-large/normalized/zoomcrop/2001267733-edc-02.jpg?v=2021.9.3_17.23.2&width=347'}\n",
      "{'make': '2019 Tesla', 'model': 'Model 3', 'price': '$43,990', 'image': '//cdnblob.fastly.carvana.io/2001224667/post-large/normalized/zoomcrop/2001224667-edc-02.jpg?v=2021.8.16_18.34.34&width=347'}\n",
      "{'make': '2019 Tesla', 'model': 'Model 3', 'price': '$44,990', 'image': '//cdnblob.fastly.carvana.io/2001199150/post-large/normalized/zoomcrop/2001199150-edc-02.jpg?v=2021.9.9_16.5.19&width=347'}\n",
      "{'make': '2019 Tesla', 'model': 'Model 3', 'price': '$40,990', 'image': '//cdnblob.fastly.carvana.io/2001155333/post-large/normalized/zoomcrop/2001155333-edc-02.jpg?v=2021.7.30_16.32.55&width=347'}\n",
      "{'make': '2019 Tesla', 'model': 'Model 3', 'price': '$43,990', 'image': '//cdnblob.fastly.carvana.io/2001200425/post-large/2001200425-edc-02-search.jpg?v=2021.8.27_14.5.44'}\n",
      "{'make': '2018 Tesla', 'model': 'Model 3', 'price': '$43,590', 'image': '//cdnblob.fastly.carvana.io/2001149332/post-large/2001149332-edc-02-search.jpg?v=2021.7.26_15.5.32'}\n",
      "{'make': '2017 Tesla', 'model': 'Model S', 'price': '$54,990', 'image': '//cdnblob.fastly.carvana.io/2001077500/post-large/2001077500-edc-02-search.jpg?v=2021.8.10_17.7.16'}\n",
      "{'make': '2019 Tesla', 'model': 'Model 3', 'price': '$41,990', 'image': '//cdnblob.fastly.carvana.io/2001078201/post-large/2001078201-edc-02-search.jpg?v=2021.6.18_13.55.47'}\n",
      "{'make': '2018 Tesla', 'model': 'Model 3', 'price': '$43,590', 'image': '//cdnblob.fastly.carvana.io/2001112313/post-large/2001112313-edc-02-search.jpg?v=2021.8.4_17.36.32'}\n",
      "{'make': '2020 Tesla', 'model': 'Model Y', 'price': '$64,590', 'image': '//cdnblob.fastly.carvana.io/2001238105/post-large/normalized/zoomcrop/2001238105-edc-02.jpg?v=2021.8.30_21.50.37&width=347'}\n",
      "{'make': '2019 Tesla', 'model': 'Model 3', 'price': '$52,990', 'image': '//carvanaevoxprodblob.blob.core.windows.net/evox/color_0640_032_png/MY2019/13547/13547_cc0640_032_PBSB.png'}\n"
     ]
    }
   ],
   "metadata": {}
  },
  {
   "cell_type": "code",
   "execution_count": 9,
   "source": [
    "print(teslas)"
   ],
   "outputs": [
    {
     "output_type": "stream",
     "name": "stdout",
     "text": [
      "[[...], [...], [...], [...], [...], [...], [...], [...], [...], [...], [...], [...], [...], [...], [...], [...], [...], [...], [...]]\n"
     ]
    }
   ],
   "metadata": {}
  },
  {
   "cell_type": "code",
   "execution_count": 45,
   "source": [
    "facts_url = 'https://en.wikipedia.org/wiki/Tesla_Supercharger'\r\n",
    "tables = pd.read_html(facts_url)\r\n",
    "supercharger_df = tables[0]\r\n",
    "supercharger_df"
   ],
   "outputs": [
    {
     "output_type": "execute_result",
     "data": {
      "text/html": [
       "<div>\n",
       "<style scoped>\n",
       "    .dataframe tbody tr th:only-of-type {\n",
       "        vertical-align: middle;\n",
       "    }\n",
       "\n",
       "    .dataframe tbody tr th {\n",
       "        vertical-align: top;\n",
       "    }\n",
       "\n",
       "    .dataframe thead th {\n",
       "        text-align: right;\n",
       "    }\n",
       "</style>\n",
       "<table border=\"1\" class=\"dataframe\">\n",
       "  <thead>\n",
       "    <tr style=\"text-align: right;\">\n",
       "      <th></th>\n",
       "      <th>Quarter</th>\n",
       "      <th>Supercharger Stations</th>\n",
       "      <th>Supercharger Connectors</th>\n",
       "      <th>Source</th>\n",
       "    </tr>\n",
       "  </thead>\n",
       "  <tbody>\n",
       "    <tr>\n",
       "      <th>0</th>\n",
       "      <td>Q4 2012</td>\n",
       "      <td>7</td>\n",
       "      <td>.</td>\n",
       "      <td>[72]</td>\n",
       "    </tr>\n",
       "    <tr>\n",
       "      <th>1</th>\n",
       "      <td>Q1 2013</td>\n",
       "      <td>7</td>\n",
       "      <td>.</td>\n",
       "      <td>[72]</td>\n",
       "    </tr>\n",
       "    <tr>\n",
       "      <th>2</th>\n",
       "      <td>Q2 2013</td>\n",
       "      <td>9</td>\n",
       "      <td>.</td>\n",
       "      <td>[73]</td>\n",
       "    </tr>\n",
       "    <tr>\n",
       "      <th>3</th>\n",
       "      <td>Q3 2013</td>\n",
       "      <td>30</td>\n",
       "      <td>.</td>\n",
       "      <td>[74]</td>\n",
       "    </tr>\n",
       "    <tr>\n",
       "      <th>4</th>\n",
       "      <td>Q4 2013</td>\n",
       "      <td>63</td>\n",
       "      <td>.</td>\n",
       "      <td>[75]</td>\n",
       "    </tr>\n",
       "    <tr>\n",
       "      <th>5</th>\n",
       "      <td>Q1 2014</td>\n",
       "      <td>101</td>\n",
       "      <td>.</td>\n",
       "      <td>[76]</td>\n",
       "    </tr>\n",
       "    <tr>\n",
       "      <th>6</th>\n",
       "      <td>Q2 2014</td>\n",
       "      <td>156</td>\n",
       "      <td>.</td>\n",
       "      <td>[77]</td>\n",
       "    </tr>\n",
       "    <tr>\n",
       "      <th>7</th>\n",
       "      <td>Q3 2014</td>\n",
       "      <td>235</td>\n",
       "      <td>.</td>\n",
       "      <td>[78]</td>\n",
       "    </tr>\n",
       "    <tr>\n",
       "      <th>8</th>\n",
       "      <td>Q4 2014</td>\n",
       "      <td>380</td>\n",
       "      <td>.</td>\n",
       "      <td>[79]</td>\n",
       "    </tr>\n",
       "    <tr>\n",
       "      <th>9</th>\n",
       "      <td>Q1 2015</td>\n",
       "      <td>425</td>\n",
       "      <td>.</td>\n",
       "      <td>[80]</td>\n",
       "    </tr>\n",
       "    <tr>\n",
       "      <th>10</th>\n",
       "      <td>Q2 2015</td>\n",
       "      <td>480</td>\n",
       "      <td>.</td>\n",
       "      <td>[81]</td>\n",
       "    </tr>\n",
       "    <tr>\n",
       "      <th>11</th>\n",
       "      <td>Q3 2015</td>\n",
       "      <td>536</td>\n",
       "      <td>.</td>\n",
       "      <td>[82]</td>\n",
       "    </tr>\n",
       "    <tr>\n",
       "      <th>12</th>\n",
       "      <td>Q4 2015</td>\n",
       "      <td>584</td>\n",
       "      <td>.</td>\n",
       "      <td>[83]</td>\n",
       "    </tr>\n",
       "    <tr>\n",
       "      <th>13</th>\n",
       "      <td>Q1 2016</td>\n",
       "      <td>613</td>\n",
       "      <td>.</td>\n",
       "      <td>[84]</td>\n",
       "    </tr>\n",
       "    <tr>\n",
       "      <th>14</th>\n",
       "      <td>Q2 2016</td>\n",
       "      <td>661</td>\n",
       "      <td>.</td>\n",
       "      <td>[85]</td>\n",
       "    </tr>\n",
       "    <tr>\n",
       "      <th>15</th>\n",
       "      <td>Q3 2016</td>\n",
       "      <td>715</td>\n",
       "      <td>.</td>\n",
       "      <td>[86]</td>\n",
       "    </tr>\n",
       "    <tr>\n",
       "      <th>16</th>\n",
       "      <td>Q4 2016</td>\n",
       "      <td>790</td>\n",
       "      <td>.</td>\n",
       "      <td>[87]</td>\n",
       "    </tr>\n",
       "    <tr>\n",
       "      <th>17</th>\n",
       "      <td>Q1 2017</td>\n",
       "      <td>828</td>\n",
       "      <td>.</td>\n",
       "      <td>[88]</td>\n",
       "    </tr>\n",
       "    <tr>\n",
       "      <th>18</th>\n",
       "      <td>Q2 2017</td>\n",
       "      <td>884</td>\n",
       "      <td>.</td>\n",
       "      <td>[89]</td>\n",
       "    </tr>\n",
       "    <tr>\n",
       "      <th>19</th>\n",
       "      <td>Q3 2017</td>\n",
       "      <td>1000</td>\n",
       "      <td>7000</td>\n",
       "      <td>[90]</td>\n",
       "    </tr>\n",
       "    <tr>\n",
       "      <th>20</th>\n",
       "      <td>Q4 2017</td>\n",
       "      <td>1128</td>\n",
       "      <td>.</td>\n",
       "      <td>[91]</td>\n",
       "    </tr>\n",
       "    <tr>\n",
       "      <th>21</th>\n",
       "      <td>Q1 2018</td>\n",
       "      <td>1205</td>\n",
       "      <td>9300</td>\n",
       "      <td>[92]</td>\n",
       "    </tr>\n",
       "    <tr>\n",
       "      <th>22</th>\n",
       "      <td>Q2 2018</td>\n",
       "      <td>1308</td>\n",
       "      <td>10800</td>\n",
       "      <td>[93]</td>\n",
       "    </tr>\n",
       "    <tr>\n",
       "      <th>23</th>\n",
       "      <td>Q3 2018</td>\n",
       "      <td>1352</td>\n",
       "      <td>11128</td>\n",
       "      <td>[94]</td>\n",
       "    </tr>\n",
       "    <tr>\n",
       "      <th>24</th>\n",
       "      <td>Q4 2018</td>\n",
       "      <td>1421</td>\n",
       "      <td>12002</td>\n",
       "      <td>[94]</td>\n",
       "    </tr>\n",
       "    <tr>\n",
       "      <th>25</th>\n",
       "      <td>Q1 2019</td>\n",
       "      <td>1490</td>\n",
       "      <td>12767</td>\n",
       "      <td>[95]</td>\n",
       "    </tr>\n",
       "    <tr>\n",
       "      <th>26</th>\n",
       "      <td>Q2 2019</td>\n",
       "      <td>1587</td>\n",
       "      <td>13881</td>\n",
       "      <td>[95]</td>\n",
       "    </tr>\n",
       "    <tr>\n",
       "      <th>27</th>\n",
       "      <td>Q3 2019</td>\n",
       "      <td>1653</td>\n",
       "      <td>14658</td>\n",
       "      <td>[95]</td>\n",
       "    </tr>\n",
       "    <tr>\n",
       "      <th>28</th>\n",
       "      <td>Q4 2019</td>\n",
       "      <td>1821</td>\n",
       "      <td>16104</td>\n",
       "      <td>[96]</td>\n",
       "    </tr>\n",
       "    <tr>\n",
       "      <th>29</th>\n",
       "      <td>Q1 2020</td>\n",
       "      <td>1917</td>\n",
       "      <td>17007</td>\n",
       "      <td>[97]</td>\n",
       "    </tr>\n",
       "    <tr>\n",
       "      <th>30</th>\n",
       "      <td>Q2 2020</td>\n",
       "      <td>2035</td>\n",
       "      <td>18100</td>\n",
       "      <td>[97]</td>\n",
       "    </tr>\n",
       "    <tr>\n",
       "      <th>31</th>\n",
       "      <td>Q3 2020</td>\n",
       "      <td>2181</td>\n",
       "      <td>19437</td>\n",
       "      <td>[97]</td>\n",
       "    </tr>\n",
       "    <tr>\n",
       "      <th>32</th>\n",
       "      <td>Q4 2020</td>\n",
       "      <td>2564</td>\n",
       "      <td>23277</td>\n",
       "      <td>[97]</td>\n",
       "    </tr>\n",
       "    <tr>\n",
       "      <th>33</th>\n",
       "      <td>Q1 2021</td>\n",
       "      <td>2699</td>\n",
       "      <td>24515</td>\n",
       "      <td>[98]</td>\n",
       "    </tr>\n",
       "    <tr>\n",
       "      <th>34</th>\n",
       "      <td>Q2 2021</td>\n",
       "      <td>2966</td>\n",
       "      <td>26900</td>\n",
       "      <td>[99]</td>\n",
       "    </tr>\n",
       "  </tbody>\n",
       "</table>\n",
       "</div>"
      ],
      "text/plain": [
       "    Quarter  Supercharger Stations Supercharger Connectors Source\n",
       "0   Q4 2012                      7                       .   [72]\n",
       "1   Q1 2013                      7                       .   [72]\n",
       "2   Q2 2013                      9                       .   [73]\n",
       "3   Q3 2013                     30                       .   [74]\n",
       "4   Q4 2013                     63                       .   [75]\n",
       "5   Q1 2014                    101                       .   [76]\n",
       "6   Q2 2014                    156                       .   [77]\n",
       "7   Q3 2014                    235                       .   [78]\n",
       "8   Q4 2014                    380                       .   [79]\n",
       "9   Q1 2015                    425                       .   [80]\n",
       "10  Q2 2015                    480                       .   [81]\n",
       "11  Q3 2015                    536                       .   [82]\n",
       "12  Q4 2015                    584                       .   [83]\n",
       "13  Q1 2016                    613                       .   [84]\n",
       "14  Q2 2016                    661                       .   [85]\n",
       "15  Q3 2016                    715                       .   [86]\n",
       "16  Q4 2016                    790                       .   [87]\n",
       "17  Q1 2017                    828                       .   [88]\n",
       "18  Q2 2017                    884                       .   [89]\n",
       "19  Q3 2017                   1000                    7000   [90]\n",
       "20  Q4 2017                   1128                       .   [91]\n",
       "21  Q1 2018                   1205                    9300   [92]\n",
       "22  Q2 2018                   1308                   10800   [93]\n",
       "23  Q3 2018                   1352                   11128   [94]\n",
       "24  Q4 2018                   1421                   12002   [94]\n",
       "25  Q1 2019                   1490                   12767   [95]\n",
       "26  Q2 2019                   1587                   13881   [95]\n",
       "27  Q3 2019                   1653                   14658   [95]\n",
       "28  Q4 2019                   1821                   16104   [96]\n",
       "29  Q1 2020                   1917                   17007   [97]\n",
       "30  Q2 2020                   2035                   18100   [97]\n",
       "31  Q3 2020                   2181                   19437   [97]\n",
       "32  Q4 2020                   2564                   23277   [97]\n",
       "33  Q1 2021                   2699                   24515   [98]\n",
       "34  Q2 2021                   2966                   26900   [99]"
      ]
     },
     "metadata": {},
     "execution_count": 45
    }
   ],
   "metadata": {}
  },
  {
   "cell_type": "code",
   "execution_count": 46,
   "source": [
    "supercharger_df.drop(['Source', 'Supercharger Connectors'], axis=1, inplace = True)\r\n",
    "supercharger_df\r\n",
    "# fact_table = supercharger_df.to_html()\r\n",
    "# fact_table.replace('\\n', '')"
   ],
   "outputs": [
    {
     "output_type": "execute_result",
     "data": {
      "text/html": [
       "<div>\n",
       "<style scoped>\n",
       "    .dataframe tbody tr th:only-of-type {\n",
       "        vertical-align: middle;\n",
       "    }\n",
       "\n",
       "    .dataframe tbody tr th {\n",
       "        vertical-align: top;\n",
       "    }\n",
       "\n",
       "    .dataframe thead th {\n",
       "        text-align: right;\n",
       "    }\n",
       "</style>\n",
       "<table border=\"1\" class=\"dataframe\">\n",
       "  <thead>\n",
       "    <tr style=\"text-align: right;\">\n",
       "      <th></th>\n",
       "      <th>Quarter</th>\n",
       "      <th>Supercharger Stations</th>\n",
       "    </tr>\n",
       "  </thead>\n",
       "  <tbody>\n",
       "    <tr>\n",
       "      <th>0</th>\n",
       "      <td>Q4 2012</td>\n",
       "      <td>7</td>\n",
       "    </tr>\n",
       "    <tr>\n",
       "      <th>1</th>\n",
       "      <td>Q1 2013</td>\n",
       "      <td>7</td>\n",
       "    </tr>\n",
       "    <tr>\n",
       "      <th>2</th>\n",
       "      <td>Q2 2013</td>\n",
       "      <td>9</td>\n",
       "    </tr>\n",
       "    <tr>\n",
       "      <th>3</th>\n",
       "      <td>Q3 2013</td>\n",
       "      <td>30</td>\n",
       "    </tr>\n",
       "    <tr>\n",
       "      <th>4</th>\n",
       "      <td>Q4 2013</td>\n",
       "      <td>63</td>\n",
       "    </tr>\n",
       "    <tr>\n",
       "      <th>5</th>\n",
       "      <td>Q1 2014</td>\n",
       "      <td>101</td>\n",
       "    </tr>\n",
       "    <tr>\n",
       "      <th>6</th>\n",
       "      <td>Q2 2014</td>\n",
       "      <td>156</td>\n",
       "    </tr>\n",
       "    <tr>\n",
       "      <th>7</th>\n",
       "      <td>Q3 2014</td>\n",
       "      <td>235</td>\n",
       "    </tr>\n",
       "    <tr>\n",
       "      <th>8</th>\n",
       "      <td>Q4 2014</td>\n",
       "      <td>380</td>\n",
       "    </tr>\n",
       "    <tr>\n",
       "      <th>9</th>\n",
       "      <td>Q1 2015</td>\n",
       "      <td>425</td>\n",
       "    </tr>\n",
       "    <tr>\n",
       "      <th>10</th>\n",
       "      <td>Q2 2015</td>\n",
       "      <td>480</td>\n",
       "    </tr>\n",
       "    <tr>\n",
       "      <th>11</th>\n",
       "      <td>Q3 2015</td>\n",
       "      <td>536</td>\n",
       "    </tr>\n",
       "    <tr>\n",
       "      <th>12</th>\n",
       "      <td>Q4 2015</td>\n",
       "      <td>584</td>\n",
       "    </tr>\n",
       "    <tr>\n",
       "      <th>13</th>\n",
       "      <td>Q1 2016</td>\n",
       "      <td>613</td>\n",
       "    </tr>\n",
       "    <tr>\n",
       "      <th>14</th>\n",
       "      <td>Q2 2016</td>\n",
       "      <td>661</td>\n",
       "    </tr>\n",
       "    <tr>\n",
       "      <th>15</th>\n",
       "      <td>Q3 2016</td>\n",
       "      <td>715</td>\n",
       "    </tr>\n",
       "    <tr>\n",
       "      <th>16</th>\n",
       "      <td>Q4 2016</td>\n",
       "      <td>790</td>\n",
       "    </tr>\n",
       "    <tr>\n",
       "      <th>17</th>\n",
       "      <td>Q1 2017</td>\n",
       "      <td>828</td>\n",
       "    </tr>\n",
       "    <tr>\n",
       "      <th>18</th>\n",
       "      <td>Q2 2017</td>\n",
       "      <td>884</td>\n",
       "    </tr>\n",
       "    <tr>\n",
       "      <th>19</th>\n",
       "      <td>Q3 2017</td>\n",
       "      <td>1000</td>\n",
       "    </tr>\n",
       "    <tr>\n",
       "      <th>20</th>\n",
       "      <td>Q4 2017</td>\n",
       "      <td>1128</td>\n",
       "    </tr>\n",
       "    <tr>\n",
       "      <th>21</th>\n",
       "      <td>Q1 2018</td>\n",
       "      <td>1205</td>\n",
       "    </tr>\n",
       "    <tr>\n",
       "      <th>22</th>\n",
       "      <td>Q2 2018</td>\n",
       "      <td>1308</td>\n",
       "    </tr>\n",
       "    <tr>\n",
       "      <th>23</th>\n",
       "      <td>Q3 2018</td>\n",
       "      <td>1352</td>\n",
       "    </tr>\n",
       "    <tr>\n",
       "      <th>24</th>\n",
       "      <td>Q4 2018</td>\n",
       "      <td>1421</td>\n",
       "    </tr>\n",
       "    <tr>\n",
       "      <th>25</th>\n",
       "      <td>Q1 2019</td>\n",
       "      <td>1490</td>\n",
       "    </tr>\n",
       "    <tr>\n",
       "      <th>26</th>\n",
       "      <td>Q2 2019</td>\n",
       "      <td>1587</td>\n",
       "    </tr>\n",
       "    <tr>\n",
       "      <th>27</th>\n",
       "      <td>Q3 2019</td>\n",
       "      <td>1653</td>\n",
       "    </tr>\n",
       "    <tr>\n",
       "      <th>28</th>\n",
       "      <td>Q4 2019</td>\n",
       "      <td>1821</td>\n",
       "    </tr>\n",
       "    <tr>\n",
       "      <th>29</th>\n",
       "      <td>Q1 2020</td>\n",
       "      <td>1917</td>\n",
       "    </tr>\n",
       "    <tr>\n",
       "      <th>30</th>\n",
       "      <td>Q2 2020</td>\n",
       "      <td>2035</td>\n",
       "    </tr>\n",
       "    <tr>\n",
       "      <th>31</th>\n",
       "      <td>Q3 2020</td>\n",
       "      <td>2181</td>\n",
       "    </tr>\n",
       "    <tr>\n",
       "      <th>32</th>\n",
       "      <td>Q4 2020</td>\n",
       "      <td>2564</td>\n",
       "    </tr>\n",
       "    <tr>\n",
       "      <th>33</th>\n",
       "      <td>Q1 2021</td>\n",
       "      <td>2699</td>\n",
       "    </tr>\n",
       "    <tr>\n",
       "      <th>34</th>\n",
       "      <td>Q2 2021</td>\n",
       "      <td>2966</td>\n",
       "    </tr>\n",
       "  </tbody>\n",
       "</table>\n",
       "</div>"
      ],
      "text/plain": [
       "    Quarter  Supercharger Stations\n",
       "0   Q4 2012                      7\n",
       "1   Q1 2013                      7\n",
       "2   Q2 2013                      9\n",
       "3   Q3 2013                     30\n",
       "4   Q4 2013                     63\n",
       "5   Q1 2014                    101\n",
       "6   Q2 2014                    156\n",
       "7   Q3 2014                    235\n",
       "8   Q4 2014                    380\n",
       "9   Q1 2015                    425\n",
       "10  Q2 2015                    480\n",
       "11  Q3 2015                    536\n",
       "12  Q4 2015                    584\n",
       "13  Q1 2016                    613\n",
       "14  Q2 2016                    661\n",
       "15  Q3 2016                    715\n",
       "16  Q4 2016                    790\n",
       "17  Q1 2017                    828\n",
       "18  Q2 2017                    884\n",
       "19  Q3 2017                   1000\n",
       "20  Q4 2017                   1128\n",
       "21  Q1 2018                   1205\n",
       "22  Q2 2018                   1308\n",
       "23  Q3 2018                   1352\n",
       "24  Q4 2018                   1421\n",
       "25  Q1 2019                   1490\n",
       "26  Q2 2019                   1587\n",
       "27  Q3 2019                   1653\n",
       "28  Q4 2019                   1821\n",
       "29  Q1 2020                   1917\n",
       "30  Q2 2020                   2035\n",
       "31  Q3 2020                   2181\n",
       "32  Q4 2020                   2564\n",
       "33  Q1 2021                   2699\n",
       "34  Q2 2021                   2966"
      ]
     },
     "metadata": {},
     "execution_count": 46
    }
   ],
   "metadata": {}
  },
  {
   "cell_type": "code",
   "execution_count": 53,
   "source": [
    "x_axis = np.arange(len(supercharger_df[\"Quarter\"]))\r\n",
    "plt.figure(figsize=(15,8))\r\n",
    "plt.bar(x_axis, supercharger_df[\"Quarter\"], 0.5, label = \"Quantity\", color=\"blue\")\r\n",
    "plt.xticks(x_axis,supercharger_df[\"Supercharger Stations\"],rotation=45,)\r\n",
    "plt.xlabel(\"Quarter\", fontsize=\"xx-large\")\r\n",
    "plt.ylabel(\"Quantity\", fontsize=\"xx-large\")\r\n",
    "plt.title(\"Tesla Global Supercharger Count\", fontsize=\"xx-large\")\r\n",
    "plt.savefig(\"Images/tesla_count\")\r\n",
    "plt.show()\r\n",
    "plt.close()"
   ],
   "outputs": [
    {
     "output_type": "display_data",
     "data": {
      "image/png": "[encoded data removed]",
      "text/plain": [
       "<Figure size 1080x576 with 1 Axes>"
      ]
     },
     "metadata": {
      "needs_background": "light"
     }
    }
   ],
   "metadata": {}
  },
  {
   "cell_type": "code",
   "execution_count": 54,
   "source": [
    "import plotly.graph_objects as go\r\n",
    "\r\n",
    "x = ['2012', '2013', '2014', '2015', '2016', '2017', '2018', '2019', '2020', ]\r\n",
    "y = [7, 63, 380, 584, 790, 1128, 1421, 1821, 2564]\r\n",
    "\r\n",
    "# Use textposition='auto' for direct text\r\n",
    "fig = go.Figure(data=[go.Bar(\r\n",
    "            x=x, y=y,\r\n",
    "            text=y,\r\n",
    "            textposition='auto',\r\n",
    "        )])\r\n",
    "\r\n",
    "fig.show()"
   ],
   "outputs": [
    {
     "output_type": "display_data",
     "data": {
      "application/vnd.plotly.v1+json": {
       "config": {
        "plotlyServerURL": "https://plot.ly"
       },
       "data": [
        {
         "text": [
          "7",
          "63",
          "380",
          "584",
          "790",
          "1128",
          "1421",
          "1821",
          "2564"
         ],
         "textposition": "auto",
         "type": "bar",
         "x": [
          "2012",
          "2013",
          "2014",
          "2015",
          "2016",
          "2017",
          "2018",
          "2019",
          "2020"
         ],
         "y": [
          7,
          63,
          380,
          584,
          790,
          1128,
          1421,
          1821,
          2564
         ]
        }
       ],
       "layout": {
        "template": {
         "data": {
          "bar": [
           {
            "error_x": {
             "color": "#2a3f5f"
            },
            "error_y": {
             "color": "#2a3f5f"
            },
            "marker": {
             "line": {
              "color": "#E5ECF6",
              "width": 0.5
             },
             "pattern": {
              "fillmode": "overlay",
              "size": 10,
              "solidity": 0.2
             }
            },
            "type": "bar"
           }
          ],
          "barpolar": [
           {
            "marker": {
             "line": {
              "color": "#E5ECF6",
              "width": 0.5
             },
             "pattern": {
              "fillmode": "overlay",
              "size": 10,
              "solidity": 0.2
             }
            },
            "type": "barpolar"
           }
          ],
          "carpet": [
           {
            "aaxis": {
             "endlinecolor": "#2a3f5f",
             "gridcolor": "white",
             "linecolor": "white",
             "minorgridcolor": "white",
             "startlinecolor": "#2a3f5f"
            },
            "baxis": {
             "endlinecolor": "#2a3f5f",
             "gridcolor": "white",
             "linecolor": "white",
             "minorgridcolor": "white",
             "startlinecolor": "#2a3f5f"
            },
            "type": "carpet"
           }
          ],
          "choropleth": [
           {
            "colorbar": {
             "outlinewidth": 0,
             "ticks": ""
            },
            "type": "choropleth"
           }
          ],
          "contour": [
           {
            "colorbar": {
             "outlinewidth": 0,
             "ticks": ""
            },
            "colorscale": [
             [
              0,
              "#0d0887"
             ],
             [
              0.1111111111111111,
              "#46039f"
             ],
             [
              0.2222222222222222,
              "#7201a8"
             ],
             [
              0.3333333333333333,
              "#9c179e"
             ],
             [
              0.4444444444444444,
              "#bd3786"
             ],
             [
              0.5555555555555556,
              "#d8576b"
             ],
             [
              0.6666666666666666,
              "#ed7953"
             ],
             [
              0.7777777777777778,
              "#fb9f3a"
             ],
             [
              0.8888888888888888,
              "#fdca26"
             ],
             [
              1,
              "#f0f921"
             ]
            ],
            "type": "contour"
           }
          ],
          "contourcarpet": [
           {
            "colorbar": {
             "outlinewidth": 0,
             "ticks": ""
            },
            "type": "contourcarpet"
           }
          ],
          "heatmap": [
           {
            "colorbar": {
             "outlinewidth": 0,
             "ticks": ""
            },
            "colorscale": [
             [
              0,
              "#0d0887"
             ],
             [
              0.1111111111111111,
              "#46039f"
             ],
             [
              0.2222222222222222,
              "#7201a8"
             ],
             [
              0.3333333333333333,
              "#9c179e"
             ],
             [
              0.4444444444444444,
              "#bd3786"
             ],
             [
              0.5555555555555556,
              "#d8576b"
             ],
             [
              0.6666666666666666,
              "#ed7953"
             ],
             [
              0.7777777777777778,
              "#fb9f3a"
             ],
             [
              0.8888888888888888,
              "#fdca26"
             ],
             [
              1,
              "#f0f921"
             ]
            ],
            "type": "heatmap"
           }
          ],
          "heatmapgl": [
           {
            "colorbar": {
             "outlinewidth": 0,
             "ticks": ""
            },
            "colorscale": [
             [
              0,
              "#0d0887"
             ],
             [
              0.1111111111111111,
              "#46039f"
             ],
             [
              0.2222222222222222,
              "#7201a8"
             ],
             [
              0.3333333333333333,
              "#9c179e"
             ],
             [
              0.4444444444444444,
              "#bd3786"
             ],
             [
              0.5555555555555556,
              "#d8576b"
             ],
             [
              0.6666666666666666,
              "#ed7953"
             ],
             [
              0.7777777777777778,
              "#fb9f3a"
             ],
             [
              0.8888888888888888,
              "#fdca26"
             ],
             [
              1,
              "#f0f921"
             ]
            ],
            "type": "heatmapgl"
           }
          ],
          "histogram": [
           {
            "marker": {
             "pattern": {
              "fillmode": "overlay",
              "size": 10,
              "solidity": 0.2
             }
            },
            "type": "histogram"
           }
          ],
          "histogram2d": [
           {
            "colorbar": {
             "outlinewidth": 0,
             "ticks": ""
            },
            "colorscale": [
             [
              0,
              "#0d0887"
             ],
             [
              0.1111111111111111,
              "#46039f"
             ],
             [
              0.2222222222222222,
              "#7201a8"
             ],
             [
              0.3333333333333333,
              "#9c179e"
             ],
             [
              0.4444444444444444,
              "#bd3786"
             ],
             [
              0.5555555555555556,
              "#d8576b"
             ],
             [
              0.6666666666666666,
              "#ed7953"
             ],
             [
              0.7777777777777778,
              "#fb9f3a"
             ],
             [
              0.8888888888888888,
              "#fdca26"
             ],
             [
              1,
              "#f0f921"
             ]
            ],
            "type": "histogram2d"
           }
          ],
          "histogram2dcontour": [
           {
            "colorbar": {
             "outlinewidth": 0,
             "ticks": ""
            },
            "colorscale": [
             [
              0,
              "#0d0887"
             ],
             [
              0.1111111111111111,
              "#46039f"
             ],
             [
              0.2222222222222222,
              "#7201a8"
             ],
             [
              0.3333333333333333,
              "#9c179e"
             ],
             [
              0.4444444444444444,
              "#bd3786"
             ],
             [
              0.5555555555555556,
              "#d8576b"
             ],
             [
              0.6666666666666666,
              "#ed7953"
             ],
             [
              0.7777777777777778,
              "#fb9f3a"
             ],
             [
              0.8888888888888888,
              "#fdca26"
             ],
             [
              1,
              "#f0f921"
             ]
            ],
            "type": "histogram2dcontour"
           }
          ],
          "mesh3d": [
           {
            "colorbar": {
             "outlinewidth": 0,
             "ticks": ""
            },
            "type": "mesh3d"
           }
          ],
          "parcoords": [
           {
            "line": {
             "colorbar": {
              "outlinewidth": 0,
              "ticks": ""
             }
            },
            "type": "parcoords"
           }
          ],
          "pie": [
           {
            "automargin": true,
            "type": "pie"
           }
          ],
          "scatter": [
           {
            "marker": {
             "colorbar": {
              "outlinewidth": 0,
              "ticks": ""
             }
            },
            "type": "scatter"
           }
          ],
          "scatter3d": [
           {
            "line": {
             "colorbar": {
              "outlinewidth": 0,
              "ticks": ""
             }
            },
            "marker": {
             "colorbar": {
              "outlinewidth": 0,
              "ticks": ""
             }
            },
            "type": "scatter3d"
           }
          ],
          "scattercarpet": [
           {
            "marker": {
             "colorbar": {
              "outlinewidth": 0,
              "ticks": ""
             }
            },
            "type": "scattercarpet"
           }
          ],
          "scattergeo": [
           {
            "marker": {
             "colorbar": {
              "outlinewidth": 0,
              "ticks": ""
             }
            },
            "type": "scattergeo"
           }
          ],
          "scattergl": [
           {
            "marker": {
             "colorbar": {
              "outlinewidth": 0,
              "ticks": ""
             }
            },
            "type": "scattergl"
           }
          ],
          "scattermapbox": [
           {
            "marker": {
             "colorbar": {
              "outlinewidth": 0,
              "ticks": ""
             }
            },
            "type": "scattermapbox"
           }
          ],
          "scatterpolar": [
           {
            "marker": {
             "colorbar": {
              "outlinewidth": 0,
              "ticks": ""
             }
            },
            "type": "scatterpolar"
           }
          ],
          "scatterpolargl": [
           {
            "marker": {
             "colorbar": {
              "outlinewidth": 0,
              "ticks": ""
             }
            },
            "type": "scatterpolargl"
           }
          ],
          "scatterternary": [
           {
            "marker": {
             "colorbar": {
              "outlinewidth": 0,
              "ticks": ""
             }
            },
            "type": "scatterternary"
           }
          ],
          "surface": [
           {
            "colorbar": {
             "outlinewidth": 0,
             "ticks": ""
            },
            "colorscale": [
             [
              0,
              "#0d0887"
             ],
             [
              0.1111111111111111,
              "#46039f"
             ],
             [
              0.2222222222222222,
              "#7201a8"
             ],
             [
              0.3333333333333333,
              "#9c179e"
             ],
             [
              0.4444444444444444,
              "#bd3786"
             ],
             [
              0.5555555555555556,
              "#d8576b"
             ],
             [
              0.6666666666666666,
              "#ed7953"
             ],
             [
              0.7777777777777778,
              "#fb9f3a"
             ],
             [
              0.8888888888888888,
              "#fdca26"
             ],
             [
              1,
              "#f0f921"
             ]
            ],
            "type": "surface"
           }
          ],
          "table": [
           {
            "cells": {
             "fill": {
              "color": "#EBF0F8"
             },
             "line": {
              "color": "white"
             }
            },
            "header": {
             "fill": {
              "color": "#C8D4E3"
             },
             "line": {
              "color": "white"
             }
            },
            "type": "table"
           }
          ]
         },
         "layout": {
          "annotationdefaults": {
           "arrowcolor": "#2a3f5f",
           "arrowhead": 0,
           "arrowwidth": 1
          },
          "autotypenumbers": "strict",
          "coloraxis": {
           "colorbar": {
            "outlinewidth": 0,
            "ticks": ""
           }
          },
          "colorscale": {
           "diverging": [
            [
             0,
             "#8e0152"
            ],
            [
             0.1,
             "#c51b7d"
            ],
            [
             0.2,
             "#de77ae"
            ],
            [
             0.3,
             "#f1b6da"
            ],
            [
             0.4,
             "#fde0ef"
            ],
            [
             0.5,
             "#f7f7f7"
            ],
            [
             0.6,
             "#e6f5d0"
            ],
            [
             0.7,
             "#b8e186"
            ],
            [
             0.8,
             "#7fbc41"
            ],
            [
             0.9,
             "#4d9221"
            ],
            [
             1,
             "#276419"
            ]
           ],
           "sequential": [
            [
             0,
             "#0d0887"
            ],
            [
             0.1111111111111111,
             "#46039f"
            ],
            [
             0.2222222222222222,
             "#7201a8"
            ],
            [
             0.3333333333333333,
             "#9c179e"
            ],
            [
             0.4444444444444444,
             "#bd3786"
            ],
            [
             0.5555555555555556,
             "#d8576b"
            ],
            [
             0.6666666666666666,
             "#ed7953"
            ],
            [
             0.7777777777777778,
             "#fb9f3a"
            ],
            [
             0.8888888888888888,
             "#fdca26"
            ],
            [
             1,
             "#f0f921"
            ]
           ],
           "sequentialminus": [
            [
             0,
             "#0d0887"
            ],
            [
             0.1111111111111111,
             "#46039f"
            ],
            [
             0.2222222222222222,
             "#7201a8"
            ],
            [
             0.3333333333333333,
             "#9c179e"
            ],
            [
             0.4444444444444444,
             "#bd3786"
            ],
            [
             0.5555555555555556,
             "#d8576b"
            ],
            [
             0.6666666666666666,
             "#ed7953"
            ],
            [
             0.7777777777777778,
             "#fb9f3a"
            ],
            [
             0.8888888888888888,
             "#fdca26"
            ],
            [
             1,
             "#f0f921"
            ]
           ]
          },
          "colorway": [
           "#636efa",
           "#EF553B",
           "#00cc96",
           "#ab63fa",
           "#FFA15A",
           "#19d3f3",
           "#FF6692",
           "#B6E880",
           "#FF97FF",
           "#FECB52"
          ],
          "font": {
           "color": "#2a3f5f"
          },
          "geo": {
           "bgcolor": "white",
           "lakecolor": "white",
           "landcolor": "#E5ECF6",
           "showlakes": true,
           "showland": true,
           "subunitcolor": "white"
          },
          "hoverlabel": {
           "align": "left"
          },
          "hovermode": "closest",
          "mapbox": {
           "style": "light"
          },
          "paper_bgcolor": "white",
          "plot_bgcolor": "#E5ECF6",
          "polar": {
           "angularaxis": {
            "gridcolor": "white",
            "linecolor": "white",
            "ticks": ""
           },
           "bgcolor": "#E5ECF6",
           "radialaxis": {
            "gridcolor": "white",
            "linecolor": "white",
            "ticks": ""
           }
          },
          "scene": {
           "xaxis": {
            "backgroundcolor": "#E5ECF6",
            "gridcolor": "white",
            "gridwidth": 2,
            "linecolor": "white",
            "showbackground": true,
            "ticks": "",
            "zerolinecolor": "white"
           },
           "yaxis": {
            "backgroundcolor": "#E5ECF6",
            "gridcolor": "white",
            "gridwidth": 2,
            "linecolor": "white",
            "showbackground": true,
            "ticks": "",
            "zerolinecolor": "white"
           },
           "zaxis": {
            "backgroundcolor": "#E5ECF6",
            "gridcolor": "white",
            "gridwidth": 2,
            "linecolor": "white",
            "showbackground": true,
            "ticks": "",
            "zerolinecolor": "white"
           }
          },
          "shapedefaults": {
           "line": {
            "color": "#2a3f5f"
           }
          },
          "ternary": {
           "aaxis": {
            "gridcolor": "white",
            "linecolor": "white",
            "ticks": ""
           },
           "baxis": {
            "gridcolor": "white",
            "linecolor": "white",
            "ticks": ""
           },
           "bgcolor": "#E5ECF6",
           "caxis": {
            "gridcolor": "white",
            "linecolor": "white",
            "ticks": ""
           }
          },
          "title": {
           "x": 0.05
          },
          "xaxis": {
           "automargin": true,
           "gridcolor": "white",
           "linecolor": "white",
           "ticks": "",
           "title": {
            "standoff": 15
           },
           "zerolinecolor": "white",
           "zerolinewidth": 2
          },
          "yaxis": {
           "automargin": true,
           "gridcolor": "white",
           "linecolor": "white",
           "ticks": "",
           "title": {
            "standoff": 15
           },
           "zerolinecolor": "white",
           "zerolinewidth": 2
          }
         }
        }
       }
      }
     },
     "metadata": {}
    }
   ],
   "metadata": {}
  },
  {
   "cell_type": "code",
   "execution_count": 9,
   "source": [
    "browser.quit()"
   ],
   "outputs": [],
   "metadata": {}
  }
 ],
 "metadata": {
  "orig_nbformat": 4,
  "language_info": {
   "name": "python",
   "version": "3.6.10",
   "mimetype": "text/x-python",
   "codemirror_mode": {
    "name": "ipython",
    "version": 3
   },
   "pygments_lexer": "ipython3",
   "nbconvert_exporter": "python",
   "file_extension": ".py"
  },
  "kernelspec": {
   "name": "python3",
   "display_name": "Python 3.6.10 64-bit ('PythonData': conda)"
  },
  "interpreter": {
   "hash": "352eb0fdbc39df23c3941759226aac7a80e9e8fcb0968112f6f9929c3d7daf2e"
  }
 },
 "nbformat": 4,
 "nbformat_minor": 2
}