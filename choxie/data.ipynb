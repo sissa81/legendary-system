{
 "cells": [
  {
   "cell_type": "code",
   "execution_count": 19,
   "source": [
    "# Dependencies\r\n",
    "import pandas as pd"
   ],
   "outputs": [],
   "metadata": {}
  },
  {
   "cell_type": "code",
   "execution_count": 20,
   "source": [
    "# Read in excel and save each tab as csv file\r\n",
    "data = pd.read_excel('Data/Vehicle_Population_Last_updated_04-30-2021.xlsx', sheet_name=None)\r\n",
    "for sheet_name, df in data.items():\r\n",
    "    df.to_csv(f'Data/{sheet_name}.csv')"
   ],
   "outputs": [],
   "metadata": {}
  },
  {
   "cell_type": "code",
   "execution_count": 21,
   "source": [
    "# Read in csv files\r\n",
    "zip_df = pd.read_csv(\"Data/ZIP.csv\")\r\n",
    "zip_df.head()\r\n"
   ],
   "outputs": [
    {
     "output_type": "execute_result",
     "data": {
      "text/html": [
       "<div>\n",
       "<style scoped>\n",
       "    .dataframe tbody tr th:only-of-type {\n",
       "        vertical-align: middle;\n",
       "    }\n",
       "\n",
       "    .dataframe tbody tr th {\n",
       "        vertical-align: top;\n",
       "    }\n",
       "\n",
       "    .dataframe thead th {\n",
       "        text-align: right;\n",
       "    }\n",
       "</style>\n",
       "<table border=\"1\" class=\"dataframe\">\n",
       "  <thead>\n",
       "    <tr style=\"text-align: right;\">\n",
       "      <th></th>\n",
       "      <th>Unnamed: 0</th>\n",
       "      <th>Data Year</th>\n",
       "      <th>Fuel Type</th>\n",
       "      <th>ZIP</th>\n",
       "      <th>Number of Vehicles</th>\n",
       "    </tr>\n",
       "  </thead>\n",
       "  <tbody>\n",
       "    <tr>\n",
       "      <th>0</th>\n",
       "      <td>0</td>\n",
       "      <td>2010</td>\n",
       "      <td>Bio Diesel</td>\n",
       "      <td>90010</td>\n",
       "      <td>3</td>\n",
       "    </tr>\n",
       "    <tr>\n",
       "      <th>1</th>\n",
       "      <td>1</td>\n",
       "      <td>2010</td>\n",
       "      <td>Bio Diesel</td>\n",
       "      <td>90019</td>\n",
       "      <td>1</td>\n",
       "    </tr>\n",
       "    <tr>\n",
       "      <th>2</th>\n",
       "      <td>2</td>\n",
       "      <td>2010</td>\n",
       "      <td>Bio Diesel</td>\n",
       "      <td>90047</td>\n",
       "      <td>1</td>\n",
       "    </tr>\n",
       "    <tr>\n",
       "      <th>3</th>\n",
       "      <td>3</td>\n",
       "      <td>2010</td>\n",
       "      <td>Bio Diesel</td>\n",
       "      <td>90058</td>\n",
       "      <td>1</td>\n",
       "    </tr>\n",
       "    <tr>\n",
       "      <th>4</th>\n",
       "      <td>4</td>\n",
       "      <td>2010</td>\n",
       "      <td>Bio Diesel</td>\n",
       "      <td>90063</td>\n",
       "      <td>1</td>\n",
       "    </tr>\n",
       "  </tbody>\n",
       "</table>\n",
       "</div>"
      ],
      "text/plain": [
       "   Unnamed: 0  Data Year   Fuel Type    ZIP  Number of Vehicles\n",
       "0           0       2010  Bio Diesel  90010                   3\n",
       "1           1       2010  Bio Diesel  90019                   1\n",
       "2           2       2010  Bio Diesel  90047                   1\n",
       "3           3       2010  Bio Diesel  90058                   1\n",
       "4           4       2010  Bio Diesel  90063                   1"
      ]
     },
     "metadata": {},
     "execution_count": 21
    }
   ],
   "metadata": {}
  },
  {
   "cell_type": "code",
   "execution_count": 22,
   "source": [
    "# Removing columns I don't need\r\n",
    "year_df = zip_df[['Data Year', 'Fuel Type', 'ZIP', 'Number of Vehicles']]\r\n",
    "year_df.head()"
   ],
   "outputs": [
    {
     "output_type": "execute_result",
     "data": {
      "text/html": [
       "<div>\n",
       "<style scoped>\n",
       "    .dataframe tbody tr th:only-of-type {\n",
       "        vertical-align: middle;\n",
       "    }\n",
       "\n",
       "    .dataframe tbody tr th {\n",
       "        vertical-align: top;\n",
       "    }\n",
       "\n",
       "    .dataframe thead th {\n",
       "        text-align: right;\n",
       "    }\n",
       "</style>\n",
       "<table border=\"1\" class=\"dataframe\">\n",
       "  <thead>\n",
       "    <tr style=\"text-align: right;\">\n",
       "      <th></th>\n",
       "      <th>Data Year</th>\n",
       "      <th>Fuel Type</th>\n",
       "      <th>ZIP</th>\n",
       "      <th>Number of Vehicles</th>\n",
       "    </tr>\n",
       "  </thead>\n",
       "  <tbody>\n",
       "    <tr>\n",
       "      <th>0</th>\n",
       "      <td>2010</td>\n",
       "      <td>Bio Diesel</td>\n",
       "      <td>90010</td>\n",
       "      <td>3</td>\n",
       "    </tr>\n",
       "    <tr>\n",
       "      <th>1</th>\n",
       "      <td>2010</td>\n",
       "      <td>Bio Diesel</td>\n",
       "      <td>90019</td>\n",
       "      <td>1</td>\n",
       "    </tr>\n",
       "    <tr>\n",
       "      <th>2</th>\n",
       "      <td>2010</td>\n",
       "      <td>Bio Diesel</td>\n",
       "      <td>90047</td>\n",
       "      <td>1</td>\n",
       "    </tr>\n",
       "    <tr>\n",
       "      <th>3</th>\n",
       "      <td>2010</td>\n",
       "      <td>Bio Diesel</td>\n",
       "      <td>90058</td>\n",
       "      <td>1</td>\n",
       "    </tr>\n",
       "    <tr>\n",
       "      <th>4</th>\n",
       "      <td>2010</td>\n",
       "      <td>Bio Diesel</td>\n",
       "      <td>90063</td>\n",
       "      <td>1</td>\n",
       "    </tr>\n",
       "  </tbody>\n",
       "</table>\n",
       "</div>"
      ],
      "text/plain": [
       "   Data Year   Fuel Type    ZIP  Number of Vehicles\n",
       "0       2010  Bio Diesel  90010                   3\n",
       "1       2010  Bio Diesel  90019                   1\n",
       "2       2010  Bio Diesel  90047                   1\n",
       "3       2010  Bio Diesel  90058                   1\n",
       "4       2010  Bio Diesel  90063                   1"
      ]
     },
     "metadata": {},
     "execution_count": 22
    }
   ],
   "metadata": {}
  },
  {
   "cell_type": "code",
   "execution_count": 23,
   "source": [
    "# Rename columns\r\n",
    "year_df = year_df.rename(columns={'Data Year': 'reg_year', 'Fuel Type': 'fuel_type', \"ZIP\": \"zip_code\", \"Number of Vehicles\": 'no_vehicles'})\r\n",
    "year_df.head()"
   ],
   "outputs": [
    {
     "output_type": "execute_result",
     "data": {
      "text/html": [
       "<div>\n",
       "<style scoped>\n",
       "    .dataframe tbody tr th:only-of-type {\n",
       "        vertical-align: middle;\n",
       "    }\n",
       "\n",
       "    .dataframe tbody tr th {\n",
       "        vertical-align: top;\n",
       "    }\n",
       "\n",
       "    .dataframe thead th {\n",
       "        text-align: right;\n",
       "    }\n",
       "</style>\n",
       "<table border=\"1\" class=\"dataframe\">\n",
       "  <thead>\n",
       "    <tr style=\"text-align: right;\">\n",
       "      <th></th>\n",
       "      <th>reg_year</th>\n",
       "      <th>fuel_type</th>\n",
       "      <th>zip_code</th>\n",
       "      <th>no_vehicles</th>\n",
       "    </tr>\n",
       "  </thead>\n",
       "  <tbody>\n",
       "    <tr>\n",
       "      <th>0</th>\n",
       "      <td>2010</td>\n",
       "      <td>Bio Diesel</td>\n",
       "      <td>90010</td>\n",
       "      <td>3</td>\n",
       "    </tr>\n",
       "    <tr>\n",
       "      <th>1</th>\n",
       "      <td>2010</td>\n",
       "      <td>Bio Diesel</td>\n",
       "      <td>90019</td>\n",
       "      <td>1</td>\n",
       "    </tr>\n",
       "    <tr>\n",
       "      <th>2</th>\n",
       "      <td>2010</td>\n",
       "      <td>Bio Diesel</td>\n",
       "      <td>90047</td>\n",
       "      <td>1</td>\n",
       "    </tr>\n",
       "    <tr>\n",
       "      <th>3</th>\n",
       "      <td>2010</td>\n",
       "      <td>Bio Diesel</td>\n",
       "      <td>90058</td>\n",
       "      <td>1</td>\n",
       "    </tr>\n",
       "    <tr>\n",
       "      <th>4</th>\n",
       "      <td>2010</td>\n",
       "      <td>Bio Diesel</td>\n",
       "      <td>90063</td>\n",
       "      <td>1</td>\n",
       "    </tr>\n",
       "  </tbody>\n",
       "</table>\n",
       "</div>"
      ],
      "text/plain": [
       "   reg_year   fuel_type  zip_code  no_vehicles\n",
       "0      2010  Bio Diesel     90010            3\n",
       "1      2010  Bio Diesel     90019            1\n",
       "2      2010  Bio Diesel     90047            1\n",
       "3      2010  Bio Diesel     90058            1\n",
       "4      2010  Bio Diesel     90063            1"
      ]
     },
     "metadata": {},
     "execution_count": 23
    }
   ],
   "metadata": {}
  },
  {
   "cell_type": "code",
   "execution_count": 31,
   "source": [
    "# Group by fuel type and year\r\n",
    "# year_df.groupby(['fuel_type', 'reg_year']).sum(no_vehicles)\r\n",
    "ev_df = year_df.loc[year_df['fuel_type'] == 'Electric']\r\n",
    "ev_df.head()"
   ],
   "outputs": [
    {
     "output_type": "execute_result",
     "data": {
      "text/html": [
       "<div>\n",
       "<style scoped>\n",
       "    .dataframe tbody tr th:only-of-type {\n",
       "        vertical-align: middle;\n",
       "    }\n",
       "\n",
       "    .dataframe tbody tr th {\n",
       "        vertical-align: top;\n",
       "    }\n",
       "\n",
       "    .dataframe thead th {\n",
       "        text-align: right;\n",
       "    }\n",
       "</style>\n",
       "<table border=\"1\" class=\"dataframe\">\n",
       "  <thead>\n",
       "    <tr style=\"text-align: right;\">\n",
       "      <th></th>\n",
       "      <th>reg_year</th>\n",
       "      <th>fuel_type</th>\n",
       "      <th>zip_code</th>\n",
       "      <th>no_vehicles</th>\n",
       "    </tr>\n",
       "  </thead>\n",
       "  <tbody>\n",
       "    <tr>\n",
       "      <th>39794</th>\n",
       "      <td>2010</td>\n",
       "      <td>Electric</td>\n",
       "      <td>90010</td>\n",
       "      <td>2</td>\n",
       "    </tr>\n",
       "    <tr>\n",
       "      <th>39795</th>\n",
       "      <td>2010</td>\n",
       "      <td>Electric</td>\n",
       "      <td>90012</td>\n",
       "      <td>5</td>\n",
       "    </tr>\n",
       "    <tr>\n",
       "      <th>39796</th>\n",
       "      <td>2010</td>\n",
       "      <td>Electric</td>\n",
       "      <td>90020</td>\n",
       "      <td>1</td>\n",
       "    </tr>\n",
       "    <tr>\n",
       "      <th>39797</th>\n",
       "      <td>2010</td>\n",
       "      <td>Electric</td>\n",
       "      <td>90021</td>\n",
       "      <td>1</td>\n",
       "    </tr>\n",
       "    <tr>\n",
       "      <th>39798</th>\n",
       "      <td>2010</td>\n",
       "      <td>Electric</td>\n",
       "      <td>90024</td>\n",
       "      <td>7</td>\n",
       "    </tr>\n",
       "  </tbody>\n",
       "</table>\n",
       "</div>"
      ],
      "text/plain": [
       "       reg_year fuel_type  zip_code  no_vehicles\n",
       "39794      2010  Electric     90010            2\n",
       "39795      2010  Electric     90012            5\n",
       "39796      2010  Electric     90020            1\n",
       "39797      2010  Electric     90021            1\n",
       "39798      2010  Electric     90024            7"
      ]
     },
     "metadata": {},
     "execution_count": 31
    }
   ],
   "metadata": {}
  },
  {
   "cell_type": "code",
   "execution_count": 29,
   "source": [
    "# Group by fuel type and year\r\n",
    "grouped = ev_df.groupby(['reg_year']).sum(no_vehicles)"
   ],
   "outputs": [
    {
     "output_type": "error",
     "ename": "NameError",
     "evalue": "name 'no_vehicles' is not defined",
     "traceback": [
      "\u001b[1;31m---------------------------------------------------------------------------\u001b[0m",
      "\u001b[1;31mNameError\u001b[0m                                 Traceback (most recent call last)",
      "\u001b[1;32m<ipython-input-29-18f263f9f564>\u001b[0m in \u001b[0;36m<module>\u001b[1;34m\u001b[0m\n\u001b[0;32m      1\u001b[0m \u001b[1;31m# Group by fuel type and year\u001b[0m\u001b[1;33m\u001b[0m\u001b[1;33m\u001b[0m\u001b[1;33m\u001b[0m\u001b[0m\n\u001b[1;32m----> 2\u001b[1;33m \u001b[0mgrouped\u001b[0m \u001b[1;33m=\u001b[0m \u001b[0mev_df\u001b[0m\u001b[1;33m.\u001b[0m\u001b[0mgroupby\u001b[0m\u001b[1;33m(\u001b[0m\u001b[1;33m[\u001b[0m\u001b[1;34m'reg_year'\u001b[0m\u001b[1;33m]\u001b[0m\u001b[1;33m)\u001b[0m\u001b[1;33m.\u001b[0m\u001b[0msum\u001b[0m\u001b[1;33m(\u001b[0m\u001b[0mno_vehicles\u001b[0m\u001b[1;33m)\u001b[0m\u001b[1;33m\u001b[0m\u001b[1;33m\u001b[0m\u001b[0m\n\u001b[0m",
      "\u001b[1;31mNameError\u001b[0m: name 'no_vehicles' is not defined"
     ]
    }
   ],
   "metadata": {}
  },
  {
   "cell_type": "code",
   "execution_count": null,
   "source": [
    "# View and change column data types as needed\r\n",
    "year_df.dtypes"
   ],
   "outputs": [],
   "metadata": {}
  },
  {
   "cell_type": "code",
   "execution_count": null,
   "source": [
    "# Create new csv for new data and remove index column\r\n",
    "year_df.to_csv('Data/yearly_data.csv', index=False)"
   ],
   "outputs": [],
   "metadata": {}
  }
 ],
 "metadata": {
  "orig_nbformat": 4,
  "language_info": {
   "name": "python",
   "version": "3.6.13",
   "mimetype": "text/x-python",
   "codemirror_mode": {
    "name": "ipython",
    "version": 3
   },
   "pygments_lexer": "ipython3",
   "nbconvert_exporter": "python",
   "file_extension": ".py"
  },
  "kernelspec": {
   "name": "python3",
   "display_name": "Python 3.6.13 64-bit ('PythonData': conda)"
  },
  "interpreter": {
   "hash": "2d9cfea98c24f9fe45dc74017fee9aee343bdf68e5b03f34f00774f8f857f24a"
  }
 },
 "nbformat": 4,
 "nbformat_minor": 2
}